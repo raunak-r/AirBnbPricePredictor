{
 "cells": [
  {
   "cell_type": "markdown",
   "metadata": {},
   "source": [
    "1. Drop Columns\n",
    "2. Imputation\n",
    "\n",
    "The said columns are dropped simply on the basis of their observed relationship in Tableau.\n",
    "Amenities Attribute could've been simplified but is left as it is for now."
   ]
  },
  {
   "cell_type": "code",
   "execution_count": 1,
   "metadata": {},
   "outputs": [],
   "source": [
    "import pandas as pd"
   ]
  },
  {
   "cell_type": "code",
   "execution_count": 2,
   "metadata": {},
   "outputs": [
    {
     "data": {
      "text/plain": [
       "(74111, 29)"
      ]
     },
     "execution_count": 2,
     "metadata": {},
     "output_type": "execute_result"
    }
   ],
   "source": [
    "data = pd.read_csv('..\\\\0.data\\\\raw\\\\raw_data.csv')\n",
    "data.shape"
   ]
  },
  {
   "cell_type": "markdown",
   "metadata": {},
   "source": [
    "### 1. Drop Columns"
   ]
  },
  {
   "cell_type": "code",
   "execution_count": 3,
   "metadata": {
    "scrolled": true
   },
   "outputs": [
    {
     "data": {
      "text/plain": [
       "(74111, 16)"
      ]
     },
     "execution_count": 3,
     "metadata": {},
     "output_type": "execute_result"
    }
   ],
   "source": [
    "columnsToBeDropped = ['id', 'amenities', 'description', 'first_review', 'host_response_rate', \\\n",
    "                      'host_since', 'last_review', 'latitude', 'longitude',\\\n",
    "                      'name', 'neighbourhood', 'thumbnail_url', 'zipcode']\n",
    "data.drop(columnsToBeDropped, axis=1, inplace=True)\n",
    "data.shape"
   ]
  },
  {
   "cell_type": "markdown",
   "metadata": {},
   "source": [
    "### 2. Imputation Data"
   ]
  },
  {
   "cell_type": "code",
   "execution_count": 4,
   "metadata": {},
   "outputs": [
    {
     "data": {
      "text/plain": [
       "log_price                     0\n",
       "property_type                 0\n",
       "room_type                     0\n",
       "accommodates                  0\n",
       "bathrooms                   200\n",
       "bed_type                      0\n",
       "cancellation_policy           0\n",
       "cleaning_fee                  0\n",
       "city                          0\n",
       "host_has_profile_pic        188\n",
       "host_identity_verified      188\n",
       "instant_bookable              0\n",
       "number_of_reviews             0\n",
       "review_scores_rating      16722\n",
       "bedrooms                     91\n",
       "beds                        131\n",
       "dtype: int64"
      ]
     },
     "execution_count": 4,
     "metadata": {},
     "output_type": "execute_result"
    }
   ],
   "source": [
    "data.isnull().sum()"
   ]
  },
  {
   "cell_type": "markdown",
   "metadata": {},
   "source": [
    "#### Imputing Bedrooms, Bathrooms, and Beds"
   ]
  },
  {
   "cell_type": "code",
   "execution_count": 5,
   "metadata": {},
   "outputs": [],
   "source": [
    "'''\n",
    "LOGIC - Number of bedrooms = bathrooms and vice versa.\n",
    "bathrooms                   200\n",
    "bedrooms                     91\n",
    "beds                        131\n",
    "''' \n",
    "def impute_bedrooms_bathrooms_beds(data):\n",
    "    bathroomC = 0\n",
    "    bedroomC = 0\n",
    "    bedsC = 0\n",
    "    for index, row in data.iterrows():\n",
    "        if (pd.isna(row['bathrooms']) == True) and (pd.isna(row['bedrooms']) == False):\n",
    "            data.at[index, 'bathrooms'] = data.at[index, 'bedrooms']\n",
    "            bathroomC = bathroomC + 1\n",
    "        if (pd.isna(row['bedrooms']) == True) and (pd.isna(row['bathrooms']) == False):\n",
    "            data.at[index, 'bedrooms'] = data.at[index, 'bathrooms']\n",
    "            bedroomC = bedroomC + 1\n",
    "    for index, row in data.iterrows():\n",
    "        if (pd.isna(row['beds']) == True) and (pd.isna(row['bedrooms']) == False):\n",
    "            data.at[index, 'beds'] = data.at[index, 'bedrooms'] * 2\n",
    "            bedsC = bedsC + 1\n",
    "\n",
    "    print('{} counts of Bathroom, {} counts of Bedrooms, {} of Beds attr. are imputed' .format(bathroomC, bedroomC, bedsC))\n",
    "    return data"
   ]
  },
  {
   "cell_type": "code",
   "execution_count": 6,
   "metadata": {},
   "outputs": [],
   "source": [
    "'''\n",
    "No profile Pic - Not Verified\n",
    "Profile Pic present - Not Verified\n",
    "\n",
    "Logic\n",
    "1. If verified: Profile pic must be present.\n",
    "2. If not verified: \n",
    "    if profile pic present: put the same in verified col.\n",
    "'''\n",
    "\n",
    "def impute_hostHasPic_identityVerification(data):\n",
    "#     count1 = 0; count2 = 0\n",
    "    for index, row in data.iterrows():\n",
    "        if (pd.isna(row['host_identity_verified']) == False) and (pd.isna(row['host_has_profile_pic']) == True):\n",
    "            data.at[index, 'host_has_profile_pic'] = data.at[index, 'host_identity_verified']\n",
    "#             count1 = count1 + 1\n",
    "        if (pd.isna(row['host_has_profile_pic']) == False) and (pd.isna(row['host_identity_verified']) == True):\n",
    "            data.at[index, 'host_identity_verified'] = data.at[index, 'host_has_profile_pic']\n",
    "#             count2 = count2 + 1\n",
    "    \n",
    "#     print(count1)\n",
    "#     print(count2)\n",
    "    \n",
    "    return data"
   ]
  },
  {
   "cell_type": "code",
   "execution_count": 7,
   "metadata": {},
   "outputs": [],
   "source": [
    "'''\n",
    "Logic - If No. of reviews = 0 then, Review Scores Rating = 0.\n",
    "'''\n",
    "\n",
    "def impute_review_scores_rating(data):\n",
    "    count = 0\n",
    "    for index, row in data.iterrows():\n",
    "        if (row['number_of_reviews'] == 0) and (pd.isna(row['review_scores_rating']) == True):\n",
    "            data.at[index, 'review_scores_rating'] = 0\n",
    "            count = count + 1\n",
    "            \n",
    "    print('{} counts of Review scores rating had 0 number of reviews. Hence, rating for them is also 0.' .format(count))\n",
    "    return data"
   ]
  },
  {
   "cell_type": "markdown",
   "metadata": {},
   "source": [
    "Impute"
   ]
  },
  {
   "cell_type": "code",
   "execution_count": 8,
   "metadata": {},
   "outputs": [
    {
     "name": "stdout",
     "output_type": "stream",
     "text": [
      "195 counts of Bathroom, 86 counts of Bedrooms, 128 of Beds attr. are imputed\n",
      "15819 counts of Review scores rating had 0 number of reviews. Hence, rating for them is also 0.\n",
      "log_price                   0\n",
      "property_type               0\n",
      "room_type                   0\n",
      "accommodates                0\n",
      "bathrooms                   5\n",
      "bed_type                    0\n",
      "cancellation_policy         0\n",
      "cleaning_fee                0\n",
      "city                        0\n",
      "host_has_profile_pic      188\n",
      "host_identity_verified    188\n",
      "instant_bookable            0\n",
      "number_of_reviews           0\n",
      "review_scores_rating      903\n",
      "bedrooms                    5\n",
      "beds                        3\n",
      "dtype: int64\n"
     ]
    }
   ],
   "source": [
    "data = impute_bedrooms_bathrooms_beds(data)\n",
    "data = impute_hostHasPic_identityVerification(data)\n",
    "data = impute_review_scores_rating(data)\n",
    "\n",
    "print(data.isnull().sum())"
   ]
  },
  {
   "cell_type": "code",
   "execution_count": 9,
   "metadata": {},
   "outputs": [
    {
     "name": "stdout",
     "output_type": "stream",
     "text": [
      "log_price                 0\n",
      "property_type             0\n",
      "room_type                 0\n",
      "accommodates              0\n",
      "bathrooms                 0\n",
      "bed_type                  0\n",
      "cancellation_policy       0\n",
      "cleaning_fee              0\n",
      "city                      0\n",
      "host_has_profile_pic      0\n",
      "host_identity_verified    0\n",
      "instant_bookable          0\n",
      "number_of_reviews         0\n",
      "review_scores_rating      0\n",
      "bedrooms                  0\n",
      "beds                      0\n",
      "dtype: int64\n",
      "(73026, 16)\n"
     ]
    }
   ],
   "source": [
    "'''\n",
    "For the remaining Nan's, the rows are simple dropped.\n",
    "'''\n",
    "data = data.dropna(axis=0)\n",
    "print(data.isnull().sum())\n",
    "print(data.shape)"
   ]
  },
  {
   "cell_type": "markdown",
   "metadata": {},
   "source": [
    "Save this processed data"
   ]
  },
  {
   "cell_type": "code",
   "execution_count": 10,
   "metadata": {},
   "outputs": [],
   "source": [
    "data.to_csv('..\\\\0.data\\\\processed\\\\v1.1_data.csv', index=False, header=True)"
   ]
  },
  {
   "cell_type": "code",
   "execution_count": null,
   "metadata": {},
   "outputs": [],
   "source": []
  }
 ],
 "metadata": {
  "kernelspec": {
   "display_name": "Python 3",
   "language": "python",
   "name": "python3"
  },
  "language_info": {
   "codemirror_mode": {
    "name": "ipython",
    "version": 3
   },
   "file_extension": ".py",
   "mimetype": "text/x-python",
   "name": "python",
   "nbconvert_exporter": "python",
   "pygments_lexer": "ipython3",
   "version": "3.6.9"
  }
 },
 "nbformat": 4,
 "nbformat_minor": 2
}
