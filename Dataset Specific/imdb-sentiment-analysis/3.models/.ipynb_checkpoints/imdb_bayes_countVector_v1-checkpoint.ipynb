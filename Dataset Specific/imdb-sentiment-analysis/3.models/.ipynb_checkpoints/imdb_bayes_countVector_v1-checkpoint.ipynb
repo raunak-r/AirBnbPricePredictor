{
 "cells": [
  {
   "cell_type": "markdown",
   "metadata": {},
   "source": [
    "## Read Dataset"
   ]
  },
  {
   "cell_type": "code",
   "execution_count": 38,
   "metadata": {},
   "outputs": [
    {
     "name": "stdout",
     "output_type": "stream",
     "text": [
      "17500\n",
      "      id  labels                                               text\n",
      "0   1288       0  We saw this on the shelf at the local video st...\n",
      "1   2064       0  Well, you'd better if you plan on sitting thro...\n",
      "2  18997       1  This is my favorite Jackie Chan movie and in a...\n",
      "3  10448       0  The long list of \"big\" names in this flick (in...\n",
      "4  16133       1  The great and underrated Marion Davies shows h...\n",
      "7500\n",
      "      id  labels                                               text\n",
      "0  20594       1  I am decidedly not in the target audience for ...\n",
      "1    602       0  Detective Russell Logan(Lou Diamond Phillips)h...\n",
      "2     29       0  I had some expectation for the movie, since it...\n",
      "3  20342       1  I think that this movie is very neat. You eith...\n",
      "4   6230       0  Well I just gave away 95 minutes and 47 second...\n"
     ]
    }
   ],
   "source": [
    "import pandas as pd\n",
    "\n",
    "train = pd.read_csv('..\\\\0.data\\\\raw\\\\imdb_train.csv')\n",
    "print(len(train))\n",
    "print(train.head())\n",
    "\n",
    "test = pd.read_csv('..\\\\0.data\\\\raw\\\\imdb_test.csv')\n",
    "print(len(test))\n",
    "print(test.head())"
   ]
  },
  {
   "cell_type": "markdown",
   "metadata": {},
   "source": [
    "## To convert string data into numerical data one can use following methods\n",
    "1. Bag of words\n",
    "2. TFIDF\n",
    "3. Word2Vec\n",
    "\n",
    "####\n",
    "\n",
    "1. -Remove Noisy Data - text file header,footer, HTML,XML,markup data - beatifulsoup or regex.\n",
    "2. Tokenization\n",
    "3. Normalization"
   ]
  },
  {
   "cell_type": "markdown",
   "metadata": {},
   "source": [
    "## Clean Data (Tokenization, Lemmatization, Punctuation Removal and Lower Case"
   ]
  },
  {
   "cell_type": "code",
   "execution_count": 40,
   "metadata": {},
   "outputs": [],
   "source": [
    "from nltk.tokenize import RegexpTokenizer\n",
    "from nltk import stem\n",
    "\n",
    "def clean_paragraph(para):\n",
    "    lmtzr = stem.WordNetLemmatizer()\n",
    "    tokenizer = RegexpTokenizer(r'\\w+')\n",
    "    \n",
    "    p = ' '.join([lmtzr.lemmatize(token.lower()) for token in tokenizer.tokenize(para)])\n",
    "    \n",
    "    return p"
   ]
  },
  {
   "cell_type": "code",
   "execution_count": 41,
   "metadata": {},
   "outputs": [
    {
     "name": "stdout",
     "output_type": "stream",
     "text": [
      "15.79221796989441\n"
     ]
    }
   ],
   "source": [
    "import time; t0 = time.time()\n",
    "\n",
    "train.text = [clean_paragraph(para) for para in train.text]\n",
    "\n",
    "print(time.time() - t0)"
   ]
  },
  {
   "cell_type": "markdown",
   "metadata": {},
   "source": [
    "## Build Count Vector on Training Data"
   ]
  },
  {
   "cell_type": "code",
   "execution_count": 42,
   "metadata": {},
   "outputs": [],
   "source": [
    "import sklearn, nltk\n",
    "from sklearn.feature_extraction.text import CountVectorizer"
   ]
  },
  {
   "cell_type": "code",
   "execution_count": 44,
   "metadata": {},
   "outputs": [],
   "source": [
    "vectorizer = CountVectorizer(min_df=2, tokenizer=nltk.word_tokenize)\n",
    "training_set_counts = vectorizer.fit_transform(train.text)"
   ]
  },
  {
   "cell_type": "markdown",
   "metadata": {},
   "source": [
    "### Test to see what really is happening\n",
    "\n",
    "'''\n",
    "The count vectorizer will extract all unique tokens\n",
    "and makes a matrix of 17500 rows and 58531 unique tokens.\n",
    "\n",
    "Each row is the vector representation of that document.\n",
    "'''"
   ]
  },
  {
   "cell_type": "code",
   "execution_count": 45,
   "metadata": {},
   "outputs": [
    {
     "name": "stdout",
     "output_type": "stream",
     "text": [
      "95\n",
      "64\n"
     ]
    },
    {
     "data": {
      "text/plain": [
       "<1x34325 sparse matrix of type '<class 'numpy.int64'>'\n",
       "\twith 63 stored elements in Compressed Sparse Row format>"
      ]
     },
     "execution_count": 45,
     "metadata": {},
     "output_type": "execute_result"
    }
   ],
   "source": [
    "'''This will work for minimum doc freq Not Set'''\n",
    "index = 0\n",
    "\n",
    "# Convert para to tokens. Length is 95.\n",
    "tempTok = nltk.word_tokenize(train.text[index])\n",
    "print(len(tempTok))\n",
    "\n",
    "# Create a dictionary to keep unique tokens only. Says 64 unique tokens.\n",
    "validationDict = {}\n",
    "for tok in tempTok:\n",
    "    validationDict[tok] = 1\n",
    "print(len(validationDict))\n",
    "\n",
    "# Says that in the first row there are 64 entries. Hence, verified\n",
    "training_set_counts[index]"
   ]
  },
  {
   "cell_type": "code",
   "execution_count": 46,
   "metadata": {},
   "outputs": [
    {
     "name": "stdout",
     "output_type": "stream",
     "text": [
      "(17500, 34325)\n",
      "31896\n",
      "58535\n"
     ]
    }
   ],
   "source": [
    "'''\n",
    "17500 docs, 34325 unique tokens\n",
    "'''\n",
    "print(training_set_counts.shape)\n",
    "print(vectorizer.vocabulary_.get('underrated'))\n",
    "print(len(tokDict))"
   ]
  },
  {
   "cell_type": "markdown",
   "metadata": {},
   "source": [
    "## Running the model on test data"
   ]
  },
  {
   "cell_type": "code",
   "execution_count": 47,
   "metadata": {},
   "outputs": [],
   "source": [
    "'''Clean test Data'''\n",
    "test.text = [clean_paragraph(para) for para in test.text]\n",
    "\n",
    "# Run vectorizer on it.\n",
    "test_set_counts = vectorizer.transform(test.text)"
   ]
  },
  {
   "cell_type": "code",
   "execution_count": 48,
   "metadata": {},
   "outputs": [
    {
     "data": {
      "text/plain": [
       "0.8402666666666667"
      ]
     },
     "execution_count": 48,
     "metadata": {},
     "output_type": "execute_result"
    }
   ],
   "source": [
    "from sklearn.naive_bayes import MultinomialNB\n",
    "\n",
    "clf = MultinomialNB()\n",
    "clf.fit(training_set_counts, train.labels)\n",
    "\n",
    "test_label_predictions = clf.predict(test_set_counts)\n",
    "sklearn.metrics.accuracy_score(test.labels, test_label_predictions)"
   ]
  },
  {
   "cell_type": "code",
   "execution_count": null,
   "metadata": {},
   "outputs": [],
   "source": []
  }
 ],
 "metadata": {
  "kernelspec": {
   "display_name": "Python 3",
   "language": "python",
   "name": "python3"
  },
  "language_info": {
   "codemirror_mode": {
    "name": "ipython",
    "version": 3
   },
   "file_extension": ".py",
   "mimetype": "text/x-python",
   "name": "python",
   "nbconvert_exporter": "python",
   "pygments_lexer": "ipython3",
   "version": "3.7.0"
  }
 },
 "nbformat": 4,
 "nbformat_minor": 2
}
