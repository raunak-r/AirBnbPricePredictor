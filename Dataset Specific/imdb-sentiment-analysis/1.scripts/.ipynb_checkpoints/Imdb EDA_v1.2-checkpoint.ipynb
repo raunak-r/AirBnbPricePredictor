{
 "cells": [
  {
   "cell_type": "markdown",
   "metadata": {},
   "source": [
    "1. Tokenization\n",
    "2. Stop Word Removal\n",
    "3. Negation Handling\n",
    "4. Stemming/Lemmatization\n",
    "5. Classification\n",
    "6. Sentiment Class"
   ]
  },
  {
   "cell_type": "code",
   "execution_count": 35,
   "metadata": {},
   "outputs": [
    {
     "name": "stdout",
     "output_type": "stream",
     "text": [
      "17500\n"
     ]
    },
    {
     "data": {
      "text/plain": [
       "0    We saw this on the shelf at the local video st...\n",
       "1    Well, you'd better if you plan on sitting thro...\n",
       "2    This is my favorite Jackie Chan movie and in a...\n",
       "3    The long list of \"big\" names in this flick (in...\n",
       "4    The great and underrated Marion Davies shows h...\n",
       "Name: text, dtype: object"
      ]
     },
     "execution_count": 35,
     "metadata": {},
     "output_type": "execute_result"
    }
   ],
   "source": [
    "import pandas as pd\n",
    "\n",
    "train = pd.read_csv('..\\\\0.data\\\\raw\\\\imdb_train.csv')\n",
    "print(len(train))\n",
    "train.text.head()"
   ]
  },
  {
   "cell_type": "markdown",
   "metadata": {},
   "source": [
    "### 1. Tokenization"
   ]
  },
  {
   "cell_type": "code",
   "execution_count": 21,
   "metadata": {},
   "outputs": [],
   "source": [
    "from nltk.tokenize import word_tokenize, RegexpTokenizer\n",
    "from nltk.corpus import stopwords\n",
    "from nltk import stem"
   ]
  },
  {
   "cell_type": "code",
   "execution_count": 48,
   "metadata": {
    "scrolled": true
   },
   "outputs": [],
   "source": [
    "lmtzr = stem.WordNetLemmatizer()\n",
    "\n",
    "def clean_text(text):\n",
    "    stopList = stopwords.words('english')\n",
    "    \n",
    "    tokens = []\n",
    "    tokenList = word_tokenize(text)\n",
    "    for token in tokenList:\n",
    "        token = token.lower()\n",
    "        token = lmtzr.lemmatize(token)\n",
    "\n",
    "        tokens.append(token)\n",
    "\n",
    "    print(\"\\nBefore Removal\"); print(len(tokens))\n",
    "    tokensSR = [token for token in tokens if token not in stopList]\n",
    "    tokens = tokensSR\n",
    "    print(\"\\nAfter Removal\"); print(len(tokens))\n",
    "    \n",
    "    print(tokens)\n",
    "    tokenList.clear()\n",
    "    return tokens\n",
    "\n",
    "\n",
    "'''\n",
    "Split the para.\n",
    "Get words.\n",
    "convert to lower case\n",
    "lemmatize them.\n",
    "join them back.\n",
    "Now the paragraph is clean.\n",
    "'''\n",
    "def clean_paragraph(para):\n",
    "# 77.86927056312561\n",
    "#     table = str.maketrans({key: None for key in string.punctuation})\n",
    "#     para = para.translate(table)\n",
    "#     p = ' '.join([lmtzr.lemmatize(token.lower()) for token in para.split(' ')])    \n",
    "\n",
    "\n",
    "# 45.1863751411438\n",
    "#     tokenizer = RegexpTokenizer(r'\\w+')\n",
    "#     p = ' '.join([lmtzr.lemmatize(token.lower()) for token in tokenizer.tokenize(para)])\n",
    "\n",
    "\n",
    "# 42.43521022796631\n",
    "    p = ' '.join([lmtzr.lemmatize(token.lower()) for token in para.split(' ') if token.isalpha()])\n",
    "\n",
    "# 121.97609329223633\n",
    "#     p = ' '.join([lmtzr.lemmatize(token.lower()) for token in word_tokenize(para)])\n",
    "\n",
    "    return p"
   ]
  },
  {
   "cell_type": "code",
   "execution_count": 49,
   "metadata": {},
   "outputs": [
    {
     "name": "stdout",
     "output_type": "stream",
     "text": [
      "121.97609329223633\n"
     ]
    }
   ],
   "source": [
    "import time\n",
    "\n",
    "t0 = time.time()\n",
    "\n",
    "train_text = [clean_paragraph(para) for para in train.text]\n",
    "\n",
    "print(time.time() - t0)"
   ]
  },
  {
   "cell_type": "code",
   "execution_count": 37,
   "metadata": {},
   "outputs": [
    {
     "data": {
      "text/plain": [
       "\"Saw this film in August at the 27th Annual National Association of Black Journalists Convention in Milwaukee, WI, it's first public screening. THE FILM IS GREAT!!! Derek Luke is wonderful as Antwone Fisher. This young actor has a very bright future. The real Antwone Fisher did a great job writing the film and Denzel's direction is right on the money. See it opening weekend. You won't be disappointed.\""
      ]
     },
     "execution_count": 37,
     "metadata": {},
     "output_type": "execute_result"
    }
   ],
   "source": [
    "len(train_text)\n",
    "train.text[15620]"
   ]
  },
  {
   "cell_type": "code",
   "execution_count": 38,
   "metadata": {},
   "outputs": [
    {
     "data": {
      "text/plain": [
       "'saw this film in august at the annual national association of black journalist convention in first public the film is derek luke is wonderful a antwone this young actor ha a very bright the real antwone fisher did a great job writing the film and direction is right on the see it opening you be'"
      ]
     },
     "execution_count": 38,
     "metadata": {},
     "output_type": "execute_result"
    }
   ],
   "source": [
    "train_text[15620]"
   ]
  },
  {
   "cell_type": "markdown",
   "metadata": {},
   "source": [
    "#### To convert string data into numerical data one can use following methods\n",
    "1. Bag of words\n",
    "2. TFIDF\n",
    "3. Word2Vec\n",
    "\n",
    "1. -Remove Noisy Data - text file header,footer, HTML,XML,markup data - beatifulsoup or regex.\n",
    "2. Tokenization\n",
    "3- Normalization\n"
   ]
  },
  {
   "cell_type": "code",
   "execution_count": 43,
   "metadata": {},
   "outputs": [
    {
     "name": "stdout",
     "output_type": "stream",
     "text": [
      "Saw this film in August at the 27th Annual National Association of Black Journalists Convention in Milwaukee, WI, it's first public screening. THE FILM IS GREAT!!! Derek Luke is wonderful as Antwone Fisher. This young actor has a very bright future. The real Antwone Fisher did a great job writing the film and Denzel's direction is right on the money. See it opening weekend. You won't be disappointed.\n"
     ]
    },
    {
     "data": {
      "text/plain": [
       "'Saw this film in August at the 27th Annual National Association of Black Journalists Convention in Milwaukee WI its first public screening THE FILM IS GREAT Derek Luke is wonderful as Antwone Fisher This young actor has a very bright future The real Antwone Fisher did a great job writing the film and Denzels direction is right on the money See it opening weekend You wont be disappointed'"
      ]
     },
     "execution_count": 43,
     "metadata": {},
     "output_type": "execute_result"
    }
   ],
   "source": [
    "import string\n",
    "para = \"Saw this film in August at the 27th Annual National Association of Black Journalists Convention in Milwaukee, WI, it's first public screening. THE FILM IS GREAT!!! Derek Luke is wonderful as Antwone Fisher. This young actor has a very bright future. The real Antwone Fisher did a great job writing the film and Denzel's direction is right on the money. See it opening weekend. You won't be disappointed.\"\n",
    "print(para)\n",
    "\n",
    "table = str.maketrans({key: None for key in string.punctuation})\n",
    "\n",
    "npara = para.translate(table)\n",
    "npara"
   ]
  },
  {
   "cell_type": "code",
   "execution_count": null,
   "metadata": {},
   "outputs": [],
   "source": []
  },
  {
   "cell_type": "code",
   "execution_count": null,
   "metadata": {},
   "outputs": [],
   "source": []
  }
 ],
 "metadata": {
  "kernelspec": {
   "display_name": "Python 3",
   "language": "python",
   "name": "python3"
  },
  "language_info": {
   "codemirror_mode": {
    "name": "ipython",
    "version": 3
   },
   "file_extension": ".py",
   "mimetype": "text/x-python",
   "name": "python",
   "nbconvert_exporter": "python",
   "pygments_lexer": "ipython3",
   "version": "3.7.0"
  }
 },
 "nbformat": 4,
 "nbformat_minor": 2
}
