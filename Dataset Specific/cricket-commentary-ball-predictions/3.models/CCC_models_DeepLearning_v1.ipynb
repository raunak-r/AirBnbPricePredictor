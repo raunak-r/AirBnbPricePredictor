{
  "nbformat": 4,
  "nbformat_minor": 0,
  "metadata": {
    "accelerator": "GPU",
    "colab": {
      "name": "CCC_models_DeepLearning_v1.ipynb",
      "version": "0.3.2",
      "provenance": [],
      "collapsed_sections": []
    },
    "kernelspec": {
      "display_name": "Python 3",
      "language": "python",
      "name": "python3"
    },
    "language_info": {
      "codemirror_mode": {
        "name": "ipython",
        "version": 3
      },
      "file_extension": ".py",
      "mimetype": "text/x-python",
      "name": "python",
      "nbconvert_exporter": "python",
      "pygments_lexer": "ipython3",
      "version": "3.6.9"
    }
  },
  "cells": [
    {
      "cell_type": "code",
      "metadata": {
        "colab_type": "code",
        "id": "vPzQoh0Bajl8",
        "colab": {}
      },
      "source": [
        "import pandas as pd\n",
        "import numpy as np"
      ],
      "execution_count": 0,
      "outputs": []
    },
    {
      "cell_type": "code",
      "metadata": {
        "colab_type": "code",
        "id": "fb3Ayytuajl_",
        "outputId": "51aaa155-f858-4351-e861-a269964d2cd1",
        "colab": {
          "base_uri": "https://localhost:8080/",
          "height": 202
        }
      },
      "source": [
        "train = pd.read_excel('CCC_Train.xlsx')\n",
        "train.head()"
      ],
      "execution_count": 2,
      "outputs": [
        {
          "output_type": "execute_result",
          "data": {
            "text/html": [
              "<div>\n",
              "<style scoped>\n",
              "    .dataframe tbody tr th:only-of-type {\n",
              "        vertical-align: middle;\n",
              "    }\n",
              "\n",
              "    .dataframe tbody tr th {\n",
              "        vertical-align: top;\n",
              "    }\n",
              "\n",
              "    .dataframe thead th {\n",
              "        text-align: right;\n",
              "    }\n",
              "</style>\n",
              "<table border=\"1\" class=\"dataframe\">\n",
              "  <thead>\n",
              "    <tr style=\"text-align: right;\">\n",
              "      <th></th>\n",
              "      <th>ID</th>\n",
              "      <th>Match_ID</th>\n",
              "      <th>Over</th>\n",
              "      <th>Commentary</th>\n",
              "      <th>Over_Run_Total</th>\n",
              "      <th>Target</th>\n",
              "    </tr>\n",
              "  </thead>\n",
              "  <tbody>\n",
              "    <tr>\n",
              "      <th>0</th>\n",
              "      <td>0</td>\n",
              "      <td>803965640511</td>\n",
              "      <td>49.6</td>\n",
              "      <td>and india reach 300. there has been a 300 in ...</td>\n",
              "      <td>4</td>\n",
              "      <td>Run_Bw_Wickets</td>\n",
              "    </tr>\n",
              "    <tr>\n",
              "      <th>1</th>\n",
              "      <td>1</td>\n",
              "      <td>803965640511</td>\n",
              "      <td>49.5</td>\n",
              "      <td>slower ball, ashwin bunts this to leg for -99...</td>\n",
              "      <td>4</td>\n",
              "      <td>Run_Bw_Wickets</td>\n",
              "    </tr>\n",
              "    <tr>\n",
              "      <th>2</th>\n",
              "      <td>2</td>\n",
              "      <td>803965640511</td>\n",
              "      <td>49.4</td>\n",
              "      <td>full toss on off, he just slogs, gets a thick...</td>\n",
              "      <td>4</td>\n",
              "      <td>Run_Bw_Wickets</td>\n",
              "    </tr>\n",
              "    <tr>\n",
              "      <th>3</th>\n",
              "      <td>3</td>\n",
              "      <td>803965640511</td>\n",
              "      <td>49.3</td>\n",
              "      <td>that's the closest you'll get to a hat-trick ...</td>\n",
              "      <td>4</td>\n",
              "      <td>Dot</td>\n",
              "    </tr>\n",
              "    <tr>\n",
              "      <th>4</th>\n",
              "      <td>4</td>\n",
              "      <td>803965640511</td>\n",
              "      <td>49.2</td>\n",
              "      <td>sohail is doing the sajda after bowling rahan...</td>\n",
              "      <td>4</td>\n",
              "      <td>Wicket</td>\n",
              "    </tr>\n",
              "  </tbody>\n",
              "</table>\n",
              "</div>"
            ],
            "text/plain": [
              "   ID      Match_ID  ...  Over_Run_Total          Target\n",
              "0   0  803965640511  ...               4  Run_Bw_Wickets\n",
              "1   1  803965640511  ...               4  Run_Bw_Wickets\n",
              "2   2  803965640511  ...               4  Run_Bw_Wickets\n",
              "3   3  803965640511  ...               4             Dot\n",
              "4   4  803965640511  ...               4          Wicket\n",
              "\n",
              "[5 rows x 6 columns]"
            ]
          },
          "metadata": {
            "tags": []
          },
          "execution_count": 2
        }
      ]
    },
    {
      "cell_type": "code",
      "metadata": {
        "colab_type": "code",
        "id": "246RTKcCajmD",
        "outputId": "d1be7eeb-28ed-4f39-9dc7-685cb1058e20",
        "colab": {
          "base_uri": "https://localhost:8080/",
          "height": 35
        }
      },
      "source": [
        "train.columns"
      ],
      "execution_count": 3,
      "outputs": [
        {
          "output_type": "execute_result",
          "data": {
            "text/plain": [
              "Index(['ID', 'Match_ID', 'Over', 'Commentary', 'Over_Run_Total', 'Target'], dtype='object')"
            ]
          },
          "metadata": {
            "tags": []
          },
          "execution_count": 3
        }
      ]
    },
    {
      "cell_type": "markdown",
      "metadata": {
        "colab_type": "text",
        "id": "UaIp3vBPajmH"
      },
      "source": [
        "## Clean Commentary Text"
      ]
    },
    {
      "cell_type": "code",
      "metadata": {
        "colab_type": "code",
        "id": "t8ism6owcXOj",
        "outputId": "a6eb9d53-9c95-413b-eeb4-e1c1c83f2dad",
        "colab": {
          "base_uri": "https://localhost:8080/",
          "height": 104
        }
      },
      "source": [
        "import nltk\n",
        "nltk.download('wordnet')\n",
        "nltk.download('punkt')"
      ],
      "execution_count": 4,
      "outputs": [
        {
          "output_type": "stream",
          "text": [
            "[nltk_data] Downloading package wordnet to /root/nltk_data...\n",
            "[nltk_data]   Package wordnet is already up-to-date!\n",
            "[nltk_data] Downloading package punkt to /root/nltk_data...\n",
            "[nltk_data]   Package punkt is already up-to-date!\n"
          ],
          "name": "stdout"
        },
        {
          "output_type": "execute_result",
          "data": {
            "text/plain": [
              "True"
            ]
          },
          "metadata": {
            "tags": []
          },
          "execution_count": 4
        }
      ]
    },
    {
      "cell_type": "code",
      "metadata": {
        "colab_type": "code",
        "id": "SW9LyW14ajmI",
        "colab": {}
      },
      "source": [
        "from nltk.tokenize import RegexpTokenizer\n",
        "from nltk import stem\n",
        "\n",
        "def clean_paragraph(para):\n",
        "    lmtzr = stem.WordNetLemmatizer()\n",
        "    tokenizer = RegexpTokenizer(r'\\w+')\n",
        "    \n",
        "    p = ' '.join([lmtzr.lemmatize(token.lower()) for token in tokenizer.tokenize(para)])\n",
        "    \n",
        "    return p"
      ],
      "execution_count": 0,
      "outputs": []
    },
    {
      "cell_type": "code",
      "metadata": {
        "colab_type": "code",
        "id": "iSBh9QtBajmL",
        "outputId": "33fb005e-4b41-4380-c27d-37e8fbd55793",
        "colab": {
          "base_uri": "https://localhost:8080/",
          "height": 35
        }
      },
      "source": [
        "import time; t0 = time.time()\n",
        "\n",
        "train.Commentary = [clean_paragraph(para) for para in train.Commentary]\n",
        "\n",
        "print(time.time() - t0)"
      ],
      "execution_count": 6,
      "outputs": [
        {
          "output_type": "stream",
          "text": [
            "9.811755657196045\n"
          ],
          "name": "stdout"
        }
      ]
    },
    {
      "cell_type": "code",
      "metadata": {
        "colab_type": "code",
        "id": "q3z3zFmLajmO",
        "outputId": "1dea6254-84d6-43d5-9199-083aefc20aa6",
        "colab": {
          "base_uri": "https://localhost:8080/",
          "height": 55
        }
      },
      "source": [
        "train.Commentary[0]"
      ],
      "execution_count": 7,
      "outputs": [
        {
          "output_type": "execute_result",
          "data": {
            "text/plain": [
              "'and india reach 300 there ha been a 300 in every first inning of this cup so far shami drive this full ball over point and come back a second'"
            ]
          },
          "metadata": {
            "tags": []
          },
          "execution_count": 7
        }
      ]
    },
    {
      "cell_type": "markdown",
      "metadata": {
        "colab_type": "text",
        "id": "fnWWauMnajmR"
      },
      "source": [
        "## Build Count Vector on Training Data"
      ]
    },
    {
      "cell_type": "code",
      "metadata": {
        "colab_type": "code",
        "id": "edpIWztfajmS",
        "colab": {}
      },
      "source": [
        "import sklearn, nltk\n",
        "from sklearn.feature_extraction.text import CountVectorizer"
      ],
      "execution_count": 0,
      "outputs": []
    },
    {
      "cell_type": "code",
      "metadata": {
        "colab_type": "code",
        "id": "GdzvEyEjajmV",
        "colab": {}
      },
      "source": [
        "vectorizer = CountVectorizer(min_df=2, tokenizer=nltk.word_tokenize)\n",
        "train_vectorized_data = vectorizer.fit_transform(train.Commentary).toarray()"
      ],
      "execution_count": 0,
      "outputs": []
    },
    {
      "cell_type": "code",
      "metadata": {
        "colab_type": "code",
        "id": "kimjEaCHajmY",
        "outputId": "bbe8a394-66aa-4660-e709-22e058e99a65",
        "colab": {
          "base_uri": "https://localhost:8080/",
          "height": 69
        }
      },
      "source": [
        "'''\n",
        "101634 docs, 8828 unique tokens\n",
        "'''\n",
        "print(train_vectorized_data.shape)\n",
        "print(type(train_vectorized_data[0]))\n",
        "len(train_vectorized_data[534])"
      ],
      "execution_count": 10,
      "outputs": [
        {
          "output_type": "stream",
          "text": [
            "(101634, 8828)\n",
            "<class 'numpy.ndarray'>\n"
          ],
          "name": "stdout"
        },
        {
          "output_type": "execute_result",
          "data": {
            "text/plain": [
              "8828"
            ]
          },
          "metadata": {
            "tags": []
          },
          "execution_count": 10
        }
      ]
    },
    {
      "cell_type": "code",
      "metadata": {
        "colab_type": "code",
        "id": "q2RPlNBsajmd",
        "outputId": "12f9f212-30b4-4a92-946c-6ce99c878c7c",
        "colab": {
          "base_uri": "https://localhost:8080/",
          "height": 104
        }
      },
      "source": [
        "train.Target.value_counts()"
      ],
      "execution_count": 11,
      "outputs": [
        {
          "output_type": "execute_result",
          "data": {
            "text/plain": [
              "Run_Bw_Wickets    43085\n",
              "Dot               42522\n",
              "Boundary          12134\n",
              "Wicket             3893\n",
              "Name: Target, dtype: int64"
            ]
          },
          "metadata": {
            "tags": []
          },
          "execution_count": 11
        }
      ]
    },
    {
      "cell_type": "code",
      "metadata": {
        "colab_type": "code",
        "id": "y8PA7D4Cajmh",
        "outputId": "70a4bdaf-0cba-47f0-88fd-25dd4ee3fd22",
        "colab": {
          "base_uri": "https://localhost:8080/",
          "height": 104
        }
      },
      "source": [
        "'''Convert Class names to numbers for easy row indexing'''\n",
        "\n",
        "for index, row in train.iterrows():\n",
        "    if row.Target == \"Run_Bw_Wickets\":\n",
        "        train.at[index, 'Target'] = 0\n",
        "    if row.Target == \"Dot\":\n",
        "        train.at[index, 'Target'] = 1\n",
        "    if row.Target == \"Boundary\":\n",
        "        train.at[index, 'Target'] = 2\n",
        "    if row.Target == \"Wicket\":\n",
        "        train.at[index, 'Target'] = 3\n",
        "\n",
        "train.Target.value_counts()"
      ],
      "execution_count": 12,
      "outputs": [
        {
          "output_type": "execute_result",
          "data": {
            "text/plain": [
              "0    43085\n",
              "1    42522\n",
              "2    12134\n",
              "3     3893\n",
              "Name: Target, dtype: int64"
            ]
          },
          "metadata": {
            "tags": []
          },
          "execution_count": 12
        }
      ]
    },
    {
      "cell_type": "code",
      "metadata": {
        "colab_type": "code",
        "id": "I-nTdwBbajmk",
        "outputId": "720ed2d7-c991-427a-bcf3-ce364040f5cb",
        "colab": {
          "base_uri": "https://localhost:8080/",
          "height": 208
        }
      },
      "source": [
        "train.Target[:10]"
      ],
      "execution_count": 13,
      "outputs": [
        {
          "output_type": "execute_result",
          "data": {
            "text/plain": [
              "0    0\n",
              "1    0\n",
              "2    0\n",
              "3    1\n",
              "4    3\n",
              "5    3\n",
              "6    3\n",
              "7    1\n",
              "8    0\n",
              "9    0\n",
              "Name: Target, dtype: object"
            ]
          },
          "metadata": {
            "tags": []
          },
          "execution_count": 13
        }
      ]
    },
    {
      "cell_type": "markdown",
      "metadata": {
        "colab_type": "text",
        "id": "tOkk2eq1ajmu"
      },
      "source": [
        "## Clean and Vectorize Test Data"
      ]
    },
    {
      "cell_type": "code",
      "metadata": {
        "colab_type": "code",
        "id": "6XyG-uIsajmv",
        "outputId": "e6ed7dab-403a-4084-fcc5-eab3095cd1db",
        "colab": {
          "base_uri": "https://localhost:8080/",
          "height": 173
        }
      },
      "source": [
        "test = pd.read_excel('CCC_Test.xlsx')\n",
        "print(test.head())\n",
        "print(test.shape)\n",
        "\n",
        "'''Clean test Data'''\n",
        "test.Commentary = [clean_paragraph(para) for para in test.Commentary]\n",
        "\n",
        "# Run vectorizer on it.\n",
        "test_vectorized_data = vectorizer.transform(test.Commentary).toarray()"
      ],
      "execution_count": 14,
      "outputs": [
        {
          "output_type": "stream",
          "text": [
            "   ID  ...  Over_Run_Total\n",
            "0   0  ...               9\n",
            "1   1  ...               9\n",
            "2   2  ...               9\n",
            "3   3  ...               9\n",
            "4   4  ...               9\n",
            "\n",
            "[5 rows x 5 columns]\n",
            "(26143, 5)\n"
          ],
          "name": "stdout"
        }
      ]
    },
    {
      "cell_type": "code",
      "metadata": {
        "colab_type": "code",
        "id": "ZEziZ0b5ajmx",
        "outputId": "b6b8f1b3-1c1a-4264-c596-92fc7abd7e8e",
        "colab": {
          "base_uri": "https://localhost:8080/",
          "height": 89
        }
      },
      "source": [
        "'''Verify Shapes of input variables'''\n",
        "\n",
        "print(test_vectorized_data.shape)\n",
        "print(train_vectorized_data.shape)\n",
        "test.Commentary[0]"
      ],
      "execution_count": 15,
      "outputs": [
        {
          "output_type": "stream",
          "text": [
            "(26143, 8828)\n",
            "(101634, 8828)\n"
          ],
          "name": "stdout"
        },
        {
          "output_type": "execute_result",
          "data": {
            "text/plain": [
              "'the yorker gone wrong low full toss and dhoni ha been waiting he sends it sailing over midwicket for 999'"
            ]
          },
          "metadata": {
            "tags": []
          },
          "execution_count": 15
        }
      ]
    },
    {
      "cell_type": "markdown",
      "metadata": {
        "colab_type": "text",
        "id": "idjIb8T1ajm0"
      },
      "source": [
        "## Run Network on Train Data"
      ]
    },
    {
      "cell_type": "code",
      "metadata": {
        "colab_type": "code",
        "id": "s1WubS49ajm0",
        "outputId": "a8995909-b42a-43ba-ed1a-da89d428bf69",
        "colab": {
          "base_uri": "https://localhost:8080/",
          "height": 35
        }
      },
      "source": [
        "from keras import models, layers"
      ],
      "execution_count": 16,
      "outputs": [
        {
          "output_type": "stream",
          "text": [
            "Using TensorFlow backend.\n"
          ],
          "name": "stderr"
        }
      ]
    },
    {
      "cell_type": "code",
      "metadata": {
        "colab_type": "code",
        "id": "JmrfHWmqajm3",
        "outputId": "afcc1959-050f-4b3f-f63d-01fe0682a0fc",
        "colab": {
          "base_uri": "https://localhost:8080/",
          "height": 141
        }
      },
      "source": [
        "network = models.Sequential()\n",
        "network.add(layers.Dense(64, activation='relu', input_shape=(8828,)))\n",
        "network.add(layers.Dense(32, activation='relu', input_shape=(8828,)))\n",
        "network.add(layers.Dense(16, activation='relu', input_shape=(8828,)))\n",
        "network.add(layers.Dense(8, activation='relu', input_shape=(8828,)))\n",
        "network.add(layers.Dense(4, activation='softmax'))"
      ],
      "execution_count": 17,
      "outputs": [
        {
          "output_type": "stream",
          "text": [
            "WARNING:tensorflow:From /usr/local/lib/python3.6/dist-packages/keras/backend/tensorflow_backend.py:66: The name tf.get_default_graph is deprecated. Please use tf.compat.v1.get_default_graph instead.\n",
            "\n",
            "WARNING:tensorflow:From /usr/local/lib/python3.6/dist-packages/keras/backend/tensorflow_backend.py:541: The name tf.placeholder is deprecated. Please use tf.compat.v1.placeholder instead.\n",
            "\n",
            "WARNING:tensorflow:From /usr/local/lib/python3.6/dist-packages/keras/backend/tensorflow_backend.py:4432: The name tf.random_uniform is deprecated. Please use tf.random.uniform instead.\n",
            "\n"
          ],
          "name": "stdout"
        }
      ]
    },
    {
      "cell_type": "code",
      "metadata": {
        "colab_type": "code",
        "id": "GTqlBxBJajm5",
        "outputId": "01a1f67e-d5b9-47b0-8ca6-95d514c2f337",
        "colab": {
          "base_uri": "https://localhost:8080/",
          "height": 107
        }
      },
      "source": [
        "network.compile(optimizer = 'rmsprop',\n",
        "             loss = 'sparse_categorical_crossentropy',\n",
        "             metrics = ['accuracy'])"
      ],
      "execution_count": 18,
      "outputs": [
        {
          "output_type": "stream",
          "text": [
            "WARNING:tensorflow:From /usr/local/lib/python3.6/dist-packages/keras/optimizers.py:793: The name tf.train.Optimizer is deprecated. Please use tf.compat.v1.train.Optimizer instead.\n",
            "\n",
            "WARNING:tensorflow:From /usr/local/lib/python3.6/dist-packages/keras/backend/tensorflow_backend.py:3622: The name tf.log is deprecated. Please use tf.math.log instead.\n",
            "\n"
          ],
          "name": "stdout"
        }
      ]
    },
    {
      "cell_type": "code",
      "metadata": {
        "colab_type": "code",
        "id": "dTP8OzPeajm-",
        "outputId": "c1a8d65c-0553-4a93-f1a9-a58938466846",
        "colab": {
          "base_uri": "https://localhost:8080/",
          "height": 488
        }
      },
      "source": [
        "'''Without Validation sets = 83.04%'''\n",
        "x_validation_set = train_vectorized_data[:15246]\n",
        "x_train_set = train_vectorized_data[15246:]\n",
        "\n",
        "y_validation_set = train.Target[:15246]\n",
        "y_train_set = train.Target[15246:]\n",
        "\n",
        "network.fit(train_vectorized_data, train.Target, epochs=10, batch_size=512)\n",
        "            # validation_data = (x_validation_set, y_validation_set))"
      ],
      "execution_count": 19,
      "outputs": [
        {
          "output_type": "stream",
          "text": [
            "WARNING:tensorflow:From /usr/local/lib/python3.6/dist-packages/tensorflow/python/ops/math_grad.py:1250: add_dispatch_support.<locals>.wrapper (from tensorflow.python.ops.array_ops) is deprecated and will be removed in a future version.\n",
            "Instructions for updating:\n",
            "Use tf.where in 2.0, which has the same broadcast rule as np.where\n",
            "WARNING:tensorflow:From /usr/local/lib/python3.6/dist-packages/keras/backend/tensorflow_backend.py:1033: The name tf.assign_add is deprecated. Please use tf.compat.v1.assign_add instead.\n",
            "\n",
            "Epoch 1/10\n",
            "101634/101634 [==============================] - 6s 62us/step - loss: 0.6798 - acc: 0.7317\n",
            "Epoch 2/10\n",
            "101634/101634 [==============================] - 5s 52us/step - loss: 0.4610 - acc: 0.8173\n",
            "Epoch 3/10\n",
            "101634/101634 [==============================] - 5s 52us/step - loss: 0.4103 - acc: 0.8401\n",
            "Epoch 4/10\n",
            "101634/101634 [==============================] - 5s 52us/step - loss: 0.3693 - acc: 0.8550\n",
            "Epoch 5/10\n",
            "101634/101634 [==============================] - 5s 52us/step - loss: 0.3379 - acc: 0.8683\n",
            "Epoch 6/10\n",
            "101634/101634 [==============================] - 5s 52us/step - loss: 0.3097 - acc: 0.8800\n",
            "Epoch 7/10\n",
            "101634/101634 [==============================] - 5s 52us/step - loss: 0.2840 - acc: 0.8907\n",
            "Epoch 8/10\n",
            "101634/101634 [==============================] - 5s 52us/step - loss: 0.2598 - acc: 0.9013\n",
            "Epoch 9/10\n",
            "101634/101634 [==============================] - 5s 52us/step - loss: 0.2380 - acc: 0.9102\n",
            "Epoch 10/10\n",
            "101634/101634 [==============================] - 5s 52us/step - loss: 0.2187 - acc: 0.9181\n"
          ],
          "name": "stdout"
        },
        {
          "output_type": "execute_result",
          "data": {
            "text/plain": [
              "<keras.callbacks.History at 0x7f0de33eada0>"
            ]
          },
          "metadata": {
            "tags": []
          },
          "execution_count": 19
        }
      ]
    },
    {
      "cell_type": "code",
      "metadata": {
        "colab_type": "code",
        "id": "zLrdh_0AajnE",
        "colab": {}
      },
      "source": [
        "predicted_test_labels = network.predict(test_vectorized_data)"
      ],
      "execution_count": 0,
      "outputs": []
    },
    {
      "cell_type": "code",
      "metadata": {
        "colab_type": "code",
        "id": "Unrc2G_7ajnH",
        "outputId": "55ed4ef2-48ab-4624-9f0e-dc5b8ff70b88",
        "colab": {
          "base_uri": "https://localhost:8080/",
          "height": 35
        }
      },
      "source": [
        "predicted_test_labels.shape"
      ],
      "execution_count": 21,
      "outputs": [
        {
          "output_type": "execute_result",
          "data": {
            "text/plain": [
              "(26143, 4)"
            ]
          },
          "metadata": {
            "tags": []
          },
          "execution_count": 21
        }
      ]
    },
    {
      "cell_type": "code",
      "metadata": {
        "colab_type": "code",
        "id": "a2kFUpnXajnK",
        "outputId": "81d90990-210c-47cb-a0b1-f9b4efef408a",
        "colab": {
          "base_uri": "https://localhost:8080/",
          "height": 35
        }
      },
      "source": [
        "np.sum(predicted_test_labels[12])"
      ],
      "execution_count": 22,
      "outputs": [
        {
          "output_type": "execute_result",
          "data": {
            "text/plain": [
              "1.0000001"
            ]
          },
          "metadata": {
            "tags": []
          },
          "execution_count": 22
        }
      ]
    },
    {
      "cell_type": "code",
      "metadata": {
        "colab_type": "code",
        "id": "ITj0nNWTajnO",
        "outputId": "b4193f3b-60ee-42ab-a386-16f670954fac",
        "colab": {
          "base_uri": "https://localhost:8080/",
          "height": 35
        }
      },
      "source": [
        "np.argmax(predicted_test_labels[1])"
      ],
      "execution_count": 23,
      "outputs": [
        {
          "output_type": "execute_result",
          "data": {
            "text/plain": [
              "1"
            ]
          },
          "metadata": {
            "tags": []
          },
          "execution_count": 23
        }
      ]
    },
    {
      "cell_type": "code",
      "metadata": {
        "colab_type": "code",
        "id": "82VSnSRRajnQ",
        "outputId": "52192e43-2154-44a8-c629-3cbac97fe3f5",
        "colab": {
          "base_uri": "https://localhost:8080/",
          "height": 35
        }
      },
      "source": [
        "pred_labels = []\n",
        "for row in predicted_test_labels:\n",
        "    pred_labels.append(np.argmax(row))\n",
        "\n",
        "pred_labels[:10]"
      ],
      "execution_count": 24,
      "outputs": [
        {
          "output_type": "execute_result",
          "data": {
            "text/plain": [
              "[2, 1, 1, 3, 1, 0, 0, 1, 1, 1]"
            ]
          },
          "metadata": {
            "tags": []
          },
          "execution_count": 24
        }
      ]
    },
    {
      "cell_type": "code",
      "metadata": {
        "colab_type": "code",
        "id": "LV3cbuF5e_CS",
        "colab": {}
      },
      "source": [
        "test['Target'] = pred_labels"
      ],
      "execution_count": 0,
      "outputs": []
    },
    {
      "cell_type": "code",
      "metadata": {
        "colab_type": "code",
        "id": "skYaF36zfCu5",
        "outputId": "dc8d23be-860a-4cb2-b43e-58925e4912be",
        "colab": {
          "base_uri": "https://localhost:8080/",
          "height": 202
        }
      },
      "source": [
        "test.head()"
      ],
      "execution_count": 26,
      "outputs": [
        {
          "output_type": "execute_result",
          "data": {
            "text/html": [
              "<div>\n",
              "<style scoped>\n",
              "    .dataframe tbody tr th:only-of-type {\n",
              "        vertical-align: middle;\n",
              "    }\n",
              "\n",
              "    .dataframe tbody tr th {\n",
              "        vertical-align: top;\n",
              "    }\n",
              "\n",
              "    .dataframe thead th {\n",
              "        text-align: right;\n",
              "    }\n",
              "</style>\n",
              "<table border=\"1\" class=\"dataframe\">\n",
              "  <thead>\n",
              "    <tr style=\"text-align: right;\">\n",
              "      <th></th>\n",
              "      <th>ID</th>\n",
              "      <th>Match_ID</th>\n",
              "      <th>Over</th>\n",
              "      <th>Commentary</th>\n",
              "      <th>Over_Run_Total</th>\n",
              "      <th>Target</th>\n",
              "    </tr>\n",
              "  </thead>\n",
              "  <tbody>\n",
              "    <tr>\n",
              "      <th>0</th>\n",
              "      <td>0</td>\n",
              "      <td>803965640511</td>\n",
              "      <td>47.6</td>\n",
              "      <td>the yorker gone wrong low full toss and dhoni ...</td>\n",
              "      <td>9</td>\n",
              "      <td>2</td>\n",
              "    </tr>\n",
              "    <tr>\n",
              "      <th>1</th>\n",
              "      <td>1</td>\n",
              "      <td>803965640511</td>\n",
              "      <td>47.5</td>\n",
              "      <td>short of a length no room worked to leg for 999</td>\n",
              "      <td>9</td>\n",
              "      <td>1</td>\n",
              "    </tr>\n",
              "    <tr>\n",
              "      <th>2</th>\n",
              "      <td>2</td>\n",
              "      <td>803965640511</td>\n",
              "      <td>47.4</td>\n",
              "      <td>good yorker dhoni is making room but can t get...</td>\n",
              "      <td>9</td>\n",
              "      <td>1</td>\n",
              "    </tr>\n",
              "    <tr>\n",
              "      <th>3</th>\n",
              "      <td>3</td>\n",
              "      <td>803965640511</td>\n",
              "      <td>47.3</td>\n",
              "      <td>raina is gone finally to the short ball but af...</td>\n",
              "      <td>9</td>\n",
              "      <td>3</td>\n",
              "    </tr>\n",
              "    <tr>\n",
              "      <th>4</th>\n",
              "      <td>4</td>\n",
              "      <td>803965640511</td>\n",
              "      <td>47.2</td>\n",
              "      <td>not called a wide great call 999 say he ha mov...</td>\n",
              "      <td>9</td>\n",
              "      <td>1</td>\n",
              "    </tr>\n",
              "  </tbody>\n",
              "</table>\n",
              "</div>"
            ],
            "text/plain": [
              "   ID      Match_ID  ...  Over_Run_Total Target\n",
              "0   0  803965640511  ...               9      2\n",
              "1   1  803965640511  ...               9      1\n",
              "2   2  803965640511  ...               9      1\n",
              "3   3  803965640511  ...               9      3\n",
              "4   4  803965640511  ...               9      1\n",
              "\n",
              "[5 rows x 6 columns]"
            ]
          },
          "metadata": {
            "tags": []
          },
          "execution_count": 26
        }
      ]
    },
    {
      "cell_type": "code",
      "metadata": {
        "colab_type": "code",
        "id": "Rq_NHxzcfWJc",
        "outputId": "46344c1d-52e6-41fc-e7af-bbb5b67c0689",
        "colab": {
          "base_uri": "https://localhost:8080/",
          "height": 277
        }
      },
      "source": [
        "print(test.dtypes)\n",
        "print(type(test.Target[0]))\n",
        "\n",
        "test.Target = test.Target.astype('str')\n",
        "\n",
        "print(test.dtypes)"
      ],
      "execution_count": 27,
      "outputs": [
        {
          "output_type": "stream",
          "text": [
            "ID                  int64\n",
            "Match_ID            int64\n",
            "Over              float64\n",
            "Commentary         object\n",
            "Over_Run_Total      int64\n",
            "Target              int64\n",
            "dtype: object\n",
            "<class 'numpy.int64'>\n",
            "ID                  int64\n",
            "Match_ID            int64\n",
            "Over              float64\n",
            "Commentary         object\n",
            "Over_Run_Total      int64\n",
            "Target             object\n",
            "dtype: object\n"
          ],
          "name": "stdout"
        }
      ]
    },
    {
      "cell_type": "code",
      "metadata": {
        "colab_type": "code",
        "id": "SGkycxPAajnS",
        "outputId": "7ca90453-105a-4193-f5b7-fe232c471121",
        "colab": {
          "base_uri": "https://localhost:8080/",
          "height": 202
        }
      },
      "source": [
        "'''Convert Labels back to Names'''\n",
        "\n",
        "for index, row in test.iterrows():\n",
        "    if row.Target == \"0\":\n",
        "        test.at[index, 'Target'] = \"Run_Bw_Wickets\"\n",
        "    if row.Target == \"1\":\n",
        "        test.at[index, 'Target'] = \"Dot\"\n",
        "    if row.Target == \"2\":\n",
        "        test.at[index, 'Target'] = \"Boundary\"\n",
        "    if row.Target == \"3\":\n",
        "        test.at[index, 'Target'] = \"Wicket\"\n",
        "        \n",
        "test.head()"
      ],
      "execution_count": 28,
      "outputs": [
        {
          "output_type": "execute_result",
          "data": {
            "text/html": [
              "<div>\n",
              "<style scoped>\n",
              "    .dataframe tbody tr th:only-of-type {\n",
              "        vertical-align: middle;\n",
              "    }\n",
              "\n",
              "    .dataframe tbody tr th {\n",
              "        vertical-align: top;\n",
              "    }\n",
              "\n",
              "    .dataframe thead th {\n",
              "        text-align: right;\n",
              "    }\n",
              "</style>\n",
              "<table border=\"1\" class=\"dataframe\">\n",
              "  <thead>\n",
              "    <tr style=\"text-align: right;\">\n",
              "      <th></th>\n",
              "      <th>ID</th>\n",
              "      <th>Match_ID</th>\n",
              "      <th>Over</th>\n",
              "      <th>Commentary</th>\n",
              "      <th>Over_Run_Total</th>\n",
              "      <th>Target</th>\n",
              "    </tr>\n",
              "  </thead>\n",
              "  <tbody>\n",
              "    <tr>\n",
              "      <th>0</th>\n",
              "      <td>0</td>\n",
              "      <td>803965640511</td>\n",
              "      <td>47.6</td>\n",
              "      <td>the yorker gone wrong low full toss and dhoni ...</td>\n",
              "      <td>9</td>\n",
              "      <td>Boundary</td>\n",
              "    </tr>\n",
              "    <tr>\n",
              "      <th>1</th>\n",
              "      <td>1</td>\n",
              "      <td>803965640511</td>\n",
              "      <td>47.5</td>\n",
              "      <td>short of a length no room worked to leg for 999</td>\n",
              "      <td>9</td>\n",
              "      <td>Dot</td>\n",
              "    </tr>\n",
              "    <tr>\n",
              "      <th>2</th>\n",
              "      <td>2</td>\n",
              "      <td>803965640511</td>\n",
              "      <td>47.4</td>\n",
              "      <td>good yorker dhoni is making room but can t get...</td>\n",
              "      <td>9</td>\n",
              "      <td>Dot</td>\n",
              "    </tr>\n",
              "    <tr>\n",
              "      <th>3</th>\n",
              "      <td>3</td>\n",
              "      <td>803965640511</td>\n",
              "      <td>47.3</td>\n",
              "      <td>raina is gone finally to the short ball but af...</td>\n",
              "      <td>9</td>\n",
              "      <td>Wicket</td>\n",
              "    </tr>\n",
              "    <tr>\n",
              "      <th>4</th>\n",
              "      <td>4</td>\n",
              "      <td>803965640511</td>\n",
              "      <td>47.2</td>\n",
              "      <td>not called a wide great call 999 say he ha mov...</td>\n",
              "      <td>9</td>\n",
              "      <td>Dot</td>\n",
              "    </tr>\n",
              "  </tbody>\n",
              "</table>\n",
              "</div>"
            ],
            "text/plain": [
              "   ID      Match_ID  ...  Over_Run_Total    Target\n",
              "0   0  803965640511  ...               9  Boundary\n",
              "1   1  803965640511  ...               9       Dot\n",
              "2   2  803965640511  ...               9       Dot\n",
              "3   3  803965640511  ...               9    Wicket\n",
              "4   4  803965640511  ...               9       Dot\n",
              "\n",
              "[5 rows x 6 columns]"
            ]
          },
          "metadata": {
            "tags": []
          },
          "execution_count": 28
        }
      ]
    },
    {
      "cell_type": "code",
      "metadata": {
        "colab_type": "code",
        "id": "qXg698_KajnV",
        "colab": {}
      },
      "source": [
        "test.to_csv('output_DeepLearning_v3.csv')"
      ],
      "execution_count": 0,
      "outputs": []
    },
    {
      "cell_type": "markdown",
      "metadata": {
        "colab_type": "text",
        "id": "_luuuZM4ajnX"
      },
      "source": [
        "# Best Accuracy so far - 83.175 %"
      ]
    },
    {
      "cell_type": "markdown",
      "metadata": {
        "id": "nSNNFAPD5DP-",
        "colab_type": "text"
      },
      "source": [
        "1. v1 - without validation set - epochs=10, batch_size=512 -> 83.175 %\n",
        "2. v2 - with validation set till 15246 - epochs=20, batch_size=128 -> 80.726 %\n",
        "3. v3 - without validation - epochs=20, batch_size=128 -> 80.932%"
      ]
    },
    {
      "cell_type": "code",
      "metadata": {
        "id": "_pF-5EQ75UM4",
        "colab_type": "code",
        "colab": {}
      },
      "source": [
        ""
      ],
      "execution_count": 0,
      "outputs": []
    }
  ]
}