{
 "cells": [
  {
   "cell_type": "code",
   "execution_count": 1,
   "metadata": {},
   "outputs": [],
   "source": [
    "import pandas as pd"
   ]
  },
  {
   "cell_type": "code",
   "execution_count": 2,
   "metadata": {},
   "outputs": [
    {
     "data": {
      "text/html": [
       "<div>\n",
       "<style scoped>\n",
       "    .dataframe tbody tr th:only-of-type {\n",
       "        vertical-align: middle;\n",
       "    }\n",
       "\n",
       "    .dataframe tbody tr th {\n",
       "        vertical-align: top;\n",
       "    }\n",
       "\n",
       "    .dataframe thead th {\n",
       "        text-align: right;\n",
       "    }\n",
       "</style>\n",
       "<table border=\"1\" class=\"dataframe\">\n",
       "  <thead>\n",
       "    <tr style=\"text-align: right;\">\n",
       "      <th></th>\n",
       "      <th>ID</th>\n",
       "      <th>Match_ID</th>\n",
       "      <th>Over</th>\n",
       "      <th>Commentary</th>\n",
       "      <th>Over_Run_Total</th>\n",
       "      <th>Target</th>\n",
       "    </tr>\n",
       "  </thead>\n",
       "  <tbody>\n",
       "    <tr>\n",
       "      <th>0</th>\n",
       "      <td>0</td>\n",
       "      <td>803965640511</td>\n",
       "      <td>49.6</td>\n",
       "      <td>and india reach 300. there has been a 300 in ...</td>\n",
       "      <td>4</td>\n",
       "      <td>Run_Bw_Wickets</td>\n",
       "    </tr>\n",
       "    <tr>\n",
       "      <th>1</th>\n",
       "      <td>1</td>\n",
       "      <td>803965640511</td>\n",
       "      <td>49.5</td>\n",
       "      <td>slower ball, ashwin bunts this to leg for -99...</td>\n",
       "      <td>4</td>\n",
       "      <td>Run_Bw_Wickets</td>\n",
       "    </tr>\n",
       "    <tr>\n",
       "      <th>2</th>\n",
       "      <td>2</td>\n",
       "      <td>803965640511</td>\n",
       "      <td>49.4</td>\n",
       "      <td>full toss on off, he just slogs, gets a thick...</td>\n",
       "      <td>4</td>\n",
       "      <td>Run_Bw_Wickets</td>\n",
       "    </tr>\n",
       "    <tr>\n",
       "      <th>3</th>\n",
       "      <td>3</td>\n",
       "      <td>803965640511</td>\n",
       "      <td>49.3</td>\n",
       "      <td>that's the closest you'll get to a hat-trick ...</td>\n",
       "      <td>4</td>\n",
       "      <td>Dot</td>\n",
       "    </tr>\n",
       "    <tr>\n",
       "      <th>4</th>\n",
       "      <td>4</td>\n",
       "      <td>803965640511</td>\n",
       "      <td>49.2</td>\n",
       "      <td>sohail is doing the sajda after bowling rahan...</td>\n",
       "      <td>4</td>\n",
       "      <td>Wicket</td>\n",
       "    </tr>\n",
       "  </tbody>\n",
       "</table>\n",
       "</div>"
      ],
      "text/plain": [
       "   ID      Match_ID  Over                                         Commentary  \\\n",
       "0   0  803965640511  49.6   and india reach 300. there has been a 300 in ...   \n",
       "1   1  803965640511  49.5   slower ball, ashwin bunts this to leg for -99...   \n",
       "2   2  803965640511  49.4   full toss on off, he just slogs, gets a thick...   \n",
       "3   3  803965640511  49.3   that's the closest you'll get to a hat-trick ...   \n",
       "4   4  803965640511  49.2   sohail is doing the sajda after bowling rahan...   \n",
       "\n",
       "   Over_Run_Total          Target  \n",
       "0               4  Run_Bw_Wickets  \n",
       "1               4  Run_Bw_Wickets  \n",
       "2               4  Run_Bw_Wickets  \n",
       "3               4             Dot  \n",
       "4               4          Wicket  "
      ]
     },
     "execution_count": 2,
     "metadata": {},
     "output_type": "execute_result"
    }
   ],
   "source": [
    "train = pd.read_excel('..//0.data//raw/CCC_Train.xlsx')\n",
    "train.head()"
   ]
  },
  {
   "cell_type": "markdown",
   "metadata": {},
   "source": [
    "## Clean Commentary Text"
   ]
  },
  {
   "cell_type": "code",
   "execution_count": 3,
   "metadata": {},
   "outputs": [],
   "source": [
    "from nltk.tokenize import RegexpTokenizer\n",
    "from nltk import stem\n",
    "\n",
    "def clean_paragraph(para):\n",
    "    lmtzr = stem.WordNetLemmatizer()\n",
    "    tokenizer = RegexpTokenizer(r'\\w+')\n",
    "    \n",
    "    p = ' '.join([lmtzr.lemmatize(token.lower()) for token in tokenizer.tokenize(para)])\n",
    "    \n",
    "    return p"
   ]
  },
  {
   "cell_type": "code",
   "execution_count": 4,
   "metadata": {},
   "outputs": [
    {
     "name": "stdout",
     "output_type": "stream",
     "text": [
      "30.436681985855103\n"
     ]
    }
   ],
   "source": [
    "import time; t0 = time.time()\n",
    "\n",
    "train.Commentary = [clean_paragraph(para) for para in train.Commentary]\n",
    "\n",
    "print(time.time() - t0)"
   ]
  },
  {
   "cell_type": "code",
   "execution_count": 5,
   "metadata": {},
   "outputs": [
    {
     "data": {
      "text/plain": [
       "'and india reach 300 there ha been a 300 in every first inning of this cup so far shami drive this full ball over point and come back a second'"
      ]
     },
     "execution_count": 5,
     "metadata": {},
     "output_type": "execute_result"
    }
   ],
   "source": [
    "train.Commentary[0]"
   ]
  },
  {
   "cell_type": "markdown",
   "metadata": {},
   "source": [
    "## Build Count Vector on Training Data"
   ]
  },
  {
   "cell_type": "code",
   "execution_count": 6,
   "metadata": {},
   "outputs": [],
   "source": [
    "import sklearn, nltk\n",
    "from sklearn.feature_extraction.text import CountVectorizer"
   ]
  },
  {
   "cell_type": "code",
   "execution_count": 7,
   "metadata": {},
   "outputs": [],
   "source": [
    "vectorizer = CountVectorizer(min_df=2, tokenizer=nltk.word_tokenize)\n",
    "training_set_counts = vectorizer.fit_transform(train.Commentary)"
   ]
  },
  {
   "cell_type": "code",
   "execution_count": 8,
   "metadata": {},
   "outputs": [
    {
     "name": "stdout",
     "output_type": "stream",
     "text": [
      "30\n",
      "26\n"
     ]
    },
    {
     "data": {
      "text/plain": [
       "<1x8828 sparse matrix of type '<class 'numpy.int64'>'\n",
       "\twith 26 stored elements in Compressed Sparse Row format>"
      ]
     },
     "execution_count": 8,
     "metadata": {},
     "output_type": "execute_result"
    }
   ],
   "source": [
    "'''This will work for minimum doc freq Not Set'''\n",
    "index = 0\n",
    "\n",
    "# Convert para to tokens. Length is 30.\n",
    "tempTok = nltk.word_tokenize(train.Commentary[index])\n",
    "print(len(tempTok))\n",
    "\n",
    "# Create a dictionary to keep unique tokens only. Says 26 unique tokens.\n",
    "validationDict = {}\n",
    "for tok in tempTok:\n",
    "    validationDict[tok] = 1\n",
    "print(len(validationDict))\n",
    "\n",
    "# Says that in the first row there are 28 entries. Hence, verified\n",
    "training_set_counts[index]"
   ]
  },
  {
   "cell_type": "code",
   "execution_count": 9,
   "metadata": {},
   "outputs": [
    {
     "name": "stdout",
     "output_type": "stream",
     "text": [
      "(101634, 8828)\n",
      "None\n"
     ]
    }
   ],
   "source": [
    "'''\n",
    "101634 docs, 8828 unique tokens\n",
    "'''\n",
    "print(training_set_counts.shape)\n",
    "print(vectorizer.vocabulary_.get('underrated'))\n",
    "# print(len(tokDict))"
   ]
  },
  {
   "cell_type": "code",
   "execution_count": 10,
   "metadata": {},
   "outputs": [
    {
     "data": {
      "text/plain": [
       "0    43085\n",
       "1    42522\n",
       "2    12134\n",
       "3     3893\n",
       "Name: Target, dtype: int64"
      ]
     },
     "execution_count": 10,
     "metadata": {},
     "output_type": "execute_result"
    }
   ],
   "source": [
    "'''Convert Class names to numbers for easy row indexing'''\n",
    "for index, row in train.iterrows():\n",
    "    if row.Target == \"Run_Bw_Wickets\":\n",
    "        train.at[index, 'Target'] = 0\n",
    "    if row.Target == \"Dot\":\n",
    "        train.at[index, 'Target'] = 1\n",
    "    if row.Target == \"Boundary\":\n",
    "        train.at[index, 'Target'] = 2\n",
    "    if row.Target == \"Wicket\":\n",
    "        train.at[index, 'Target'] = 3\n",
    "\n",
    "train.Target.value_counts()"
   ]
  },
  {
   "cell_type": "code",
   "execution_count": 11,
   "metadata": {},
   "outputs": [
    {
     "name": "stdout",
     "output_type": "stream",
     "text": [
      "ID                  int64\n",
      "Match_ID            int64\n",
      "Over              float64\n",
      "Commentary         object\n",
      "Over_Run_Total      int64\n",
      "Target             object\n",
      "dtype: object\n",
      "int32\n"
     ]
    }
   ],
   "source": [
    "'''Type Definition'''\n",
    "print(train.dtypes)\n",
    "\n",
    "'''After'''\n",
    "train.Target = train.Target.astype('int')\n",
    "print(train.Target.dtypes)\n"
   ]
  },
  {
   "cell_type": "markdown",
   "metadata": {},
   "source": [
    "## Running the model on Train data"
   ]
  },
  {
   "cell_type": "code",
   "execution_count": 12,
   "metadata": {},
   "outputs": [
    {
     "data": {
      "text/plain": [
       "(26143, 5)"
      ]
     },
     "execution_count": 12,
     "metadata": {},
     "output_type": "execute_result"
    }
   ],
   "source": [
    "test = pd.read_excel('..//0.data//raw/CCC_Test.xlsx')\n",
    "test.head()\n",
    "test.shape"
   ]
  },
  {
   "cell_type": "code",
   "execution_count": 13,
   "metadata": {},
   "outputs": [
    {
     "data": {
      "text/plain": [
       "MultinomialNB(alpha=1.0, class_prior=None, fit_prior=True)"
      ]
     },
     "execution_count": 13,
     "metadata": {},
     "output_type": "execute_result"
    }
   ],
   "source": [
    "from sklearn.naive_bayes import MultinomialNB\n",
    "\n",
    "clf = MultinomialNB()\n",
    "clf.fit(training_set_counts, train.Target)"
   ]
  },
  {
   "cell_type": "markdown",
   "metadata": {},
   "source": [
    "## Make Predictions on Test Data"
   ]
  },
  {
   "cell_type": "code",
   "execution_count": 14,
   "metadata": {},
   "outputs": [],
   "source": [
    "'''Clean test Data'''\n",
    "test.Commentary = [clean_paragraph(para) for para in test.Commentary]\n",
    "\n",
    "# Run vectorizer on it.\n",
    "test_set_counts = vectorizer.transform(test.Commentary)"
   ]
  },
  {
   "cell_type": "code",
   "execution_count": 15,
   "metadata": {},
   "outputs": [],
   "source": [
    "'''Predict on Test Data'''\n",
    "test_label_predictions = clf.predict(test_set_counts)"
   ]
  },
  {
   "cell_type": "code",
   "execution_count": 16,
   "metadata": {},
   "outputs": [
    {
     "data": {
      "text/plain": [
       "numpy.str_"
      ]
     },
     "execution_count": 16,
     "metadata": {},
     "output_type": "execute_result"
    }
   ],
   "source": [
    "type(test_label_predictions[0])\n",
    "\n",
    "'''Convert the type to string back.'''\n",
    "test_label_predictions = test_label_predictions.astype(str)\n",
    "type(test_label_predictions[0])"
   ]
  },
  {
   "cell_type": "code",
   "execution_count": 17,
   "metadata": {},
   "outputs": [
    {
     "data": {
      "text/html": [
       "<div>\n",
       "<style scoped>\n",
       "    .dataframe tbody tr th:only-of-type {\n",
       "        vertical-align: middle;\n",
       "    }\n",
       "\n",
       "    .dataframe tbody tr th {\n",
       "        vertical-align: top;\n",
       "    }\n",
       "\n",
       "    .dataframe thead th {\n",
       "        text-align: right;\n",
       "    }\n",
       "</style>\n",
       "<table border=\"1\" class=\"dataframe\">\n",
       "  <thead>\n",
       "    <tr style=\"text-align: right;\">\n",
       "      <th></th>\n",
       "      <th>ID</th>\n",
       "      <th>Match_ID</th>\n",
       "      <th>Over</th>\n",
       "      <th>Commentary</th>\n",
       "      <th>Over_Run_Total</th>\n",
       "      <th>Target</th>\n",
       "    </tr>\n",
       "  </thead>\n",
       "  <tbody>\n",
       "    <tr>\n",
       "      <th>0</th>\n",
       "      <td>0</td>\n",
       "      <td>803965640511</td>\n",
       "      <td>47.6</td>\n",
       "      <td>the yorker gone wrong low full toss and dhoni ...</td>\n",
       "      <td>9</td>\n",
       "      <td>2</td>\n",
       "    </tr>\n",
       "    <tr>\n",
       "      <th>1</th>\n",
       "      <td>1</td>\n",
       "      <td>803965640511</td>\n",
       "      <td>47.5</td>\n",
       "      <td>short of a length no room worked to leg for 999</td>\n",
       "      <td>9</td>\n",
       "      <td>0</td>\n",
       "    </tr>\n",
       "    <tr>\n",
       "      <th>2</th>\n",
       "      <td>2</td>\n",
       "      <td>803965640511</td>\n",
       "      <td>47.4</td>\n",
       "      <td>good yorker dhoni is making room but can t get...</td>\n",
       "      <td>9</td>\n",
       "      <td>1</td>\n",
       "    </tr>\n",
       "    <tr>\n",
       "      <th>3</th>\n",
       "      <td>3</td>\n",
       "      <td>803965640511</td>\n",
       "      <td>47.3</td>\n",
       "      <td>raina is gone finally to the short ball but af...</td>\n",
       "      <td>9</td>\n",
       "      <td>3</td>\n",
       "    </tr>\n",
       "    <tr>\n",
       "      <th>4</th>\n",
       "      <td>4</td>\n",
       "      <td>803965640511</td>\n",
       "      <td>47.2</td>\n",
       "      <td>not called a wide great call 999 say he ha mov...</td>\n",
       "      <td>9</td>\n",
       "      <td>3</td>\n",
       "    </tr>\n",
       "  </tbody>\n",
       "</table>\n",
       "</div>"
      ],
      "text/plain": [
       "   ID      Match_ID  Over                                         Commentary  \\\n",
       "0   0  803965640511  47.6  the yorker gone wrong low full toss and dhoni ...   \n",
       "1   1  803965640511  47.5    short of a length no room worked to leg for 999   \n",
       "2   2  803965640511  47.4  good yorker dhoni is making room but can t get...   \n",
       "3   3  803965640511  47.3  raina is gone finally to the short ball but af...   \n",
       "4   4  803965640511  47.2  not called a wide great call 999 say he ha mov...   \n",
       "\n",
       "   Over_Run_Total Target  \n",
       "0               9      2  \n",
       "1               9      0  \n",
       "2               9      1  \n",
       "3               9      3  \n",
       "4               9      3  "
      ]
     },
     "execution_count": 17,
     "metadata": {},
     "output_type": "execute_result"
    }
   ],
   "source": [
    "'''Join this column with Test Data'''\n",
    "test['Target'] = test_label_predictions\n",
    "\n",
    "test.head()"
   ]
  },
  {
   "cell_type": "code",
   "execution_count": 18,
   "metadata": {},
   "outputs": [
    {
     "data": {
      "text/html": [
       "<div>\n",
       "<style scoped>\n",
       "    .dataframe tbody tr th:only-of-type {\n",
       "        vertical-align: middle;\n",
       "    }\n",
       "\n",
       "    .dataframe tbody tr th {\n",
       "        vertical-align: top;\n",
       "    }\n",
       "\n",
       "    .dataframe thead th {\n",
       "        text-align: right;\n",
       "    }\n",
       "</style>\n",
       "<table border=\"1\" class=\"dataframe\">\n",
       "  <thead>\n",
       "    <tr style=\"text-align: right;\">\n",
       "      <th></th>\n",
       "      <th>ID</th>\n",
       "      <th>Match_ID</th>\n",
       "      <th>Over</th>\n",
       "      <th>Commentary</th>\n",
       "      <th>Over_Run_Total</th>\n",
       "      <th>Target</th>\n",
       "    </tr>\n",
       "  </thead>\n",
       "  <tbody>\n",
       "    <tr>\n",
       "      <th>0</th>\n",
       "      <td>0</td>\n",
       "      <td>803965640511</td>\n",
       "      <td>47.6</td>\n",
       "      <td>the yorker gone wrong low full toss and dhoni ...</td>\n",
       "      <td>9</td>\n",
       "      <td>Boundary</td>\n",
       "    </tr>\n",
       "    <tr>\n",
       "      <th>1</th>\n",
       "      <td>1</td>\n",
       "      <td>803965640511</td>\n",
       "      <td>47.5</td>\n",
       "      <td>short of a length no room worked to leg for 999</td>\n",
       "      <td>9</td>\n",
       "      <td>Run_Bw_Wickets</td>\n",
       "    </tr>\n",
       "    <tr>\n",
       "      <th>2</th>\n",
       "      <td>2</td>\n",
       "      <td>803965640511</td>\n",
       "      <td>47.4</td>\n",
       "      <td>good yorker dhoni is making room but can t get...</td>\n",
       "      <td>9</td>\n",
       "      <td>Dot</td>\n",
       "    </tr>\n",
       "    <tr>\n",
       "      <th>3</th>\n",
       "      <td>3</td>\n",
       "      <td>803965640511</td>\n",
       "      <td>47.3</td>\n",
       "      <td>raina is gone finally to the short ball but af...</td>\n",
       "      <td>9</td>\n",
       "      <td>Wicket</td>\n",
       "    </tr>\n",
       "    <tr>\n",
       "      <th>4</th>\n",
       "      <td>4</td>\n",
       "      <td>803965640511</td>\n",
       "      <td>47.2</td>\n",
       "      <td>not called a wide great call 999 say he ha mov...</td>\n",
       "      <td>9</td>\n",
       "      <td>Wicket</td>\n",
       "    </tr>\n",
       "  </tbody>\n",
       "</table>\n",
       "</div>"
      ],
      "text/plain": [
       "   ID      Match_ID  Over                                         Commentary  \\\n",
       "0   0  803965640511  47.6  the yorker gone wrong low full toss and dhoni ...   \n",
       "1   1  803965640511  47.5    short of a length no room worked to leg for 999   \n",
       "2   2  803965640511  47.4  good yorker dhoni is making room but can t get...   \n",
       "3   3  803965640511  47.3  raina is gone finally to the short ball but af...   \n",
       "4   4  803965640511  47.2  not called a wide great call 999 say he ha mov...   \n",
       "\n",
       "   Over_Run_Total          Target  \n",
       "0               9        Boundary  \n",
       "1               9  Run_Bw_Wickets  \n",
       "2               9             Dot  \n",
       "3               9          Wicket  \n",
       "4               9          Wicket  "
      ]
     },
     "execution_count": 18,
     "metadata": {},
     "output_type": "execute_result"
    }
   ],
   "source": [
    "'''Convert Labels back to Names'''\n",
    "\n",
    "for index, row in test.iterrows():\n",
    "    if row.Target == \"0\":\n",
    "        test.at[index, 'Target'] = \"Run_Bw_Wickets\"\n",
    "    if row.Target == \"1\":\n",
    "        test.at[index, 'Target'] = \"Dot\"\n",
    "    if row.Target == \"2\":\n",
    "        test.at[index, 'Target'] = \"Boundary\"\n",
    "    if row.Target == \"3\":\n",
    "        test.at[index, 'Target'] = \"Wicket\"\n",
    "        \n",
    "test.head()"
   ]
  },
  {
   "cell_type": "code",
   "execution_count": 19,
   "metadata": {},
   "outputs": [],
   "source": [
    "test.to_csv('..//5.outputs//output_countVeclibSup_v1.csv')"
   ]
  },
  {
   "cell_type": "markdown",
   "metadata": {},
   "source": [
    "# Accuracy so far - 76.872 %"
   ]
  },
  {
   "cell_type": "code",
   "execution_count": null,
   "metadata": {},
   "outputs": [],
   "source": []
  }
 ],
 "metadata": {
  "kernelspec": {
   "display_name": "Python 3",
   "language": "python",
   "name": "python3"
  },
  "language_info": {
   "codemirror_mode": {
    "name": "ipython",
    "version": 3
   },
   "file_extension": ".py",
   "mimetype": "text/x-python",
   "name": "python",
   "nbconvert_exporter": "python",
   "pygments_lexer": "ipython3",
   "version": "3.7.0"
  }
 },
 "nbformat": 4,
 "nbformat_minor": 2
}
