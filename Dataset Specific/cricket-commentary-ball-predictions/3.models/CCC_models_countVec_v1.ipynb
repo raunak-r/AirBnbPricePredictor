{
 "cells": [
  {
   "cell_type": "code",
   "execution_count": 5,
   "metadata": {},
   "outputs": [],
   "source": [
    "import pandas as pd"
   ]
  },
  {
   "cell_type": "code",
   "execution_count": 6,
   "metadata": {},
   "outputs": [
    {
     "data": {
      "text/html": [
       "<div>\n",
       "<style scoped>\n",
       "    .dataframe tbody tr th:only-of-type {\n",
       "        vertical-align: middle;\n",
       "    }\n",
       "\n",
       "    .dataframe tbody tr th {\n",
       "        vertical-align: top;\n",
       "    }\n",
       "\n",
       "    .dataframe thead th {\n",
       "        text-align: right;\n",
       "    }\n",
       "</style>\n",
       "<table border=\"1\" class=\"dataframe\">\n",
       "  <thead>\n",
       "    <tr style=\"text-align: right;\">\n",
       "      <th></th>\n",
       "      <th>ID</th>\n",
       "      <th>Match_ID</th>\n",
       "      <th>Over</th>\n",
       "      <th>Commentary</th>\n",
       "      <th>Over_Run_Total</th>\n",
       "      <th>Target</th>\n",
       "    </tr>\n",
       "  </thead>\n",
       "  <tbody>\n",
       "    <tr>\n",
       "      <th>0</th>\n",
       "      <td>0</td>\n",
       "      <td>803965640511</td>\n",
       "      <td>49.6</td>\n",
       "      <td>and india reach 300. there has been a 300 in ...</td>\n",
       "      <td>4</td>\n",
       "      <td>Run_Bw_Wickets</td>\n",
       "    </tr>\n",
       "    <tr>\n",
       "      <th>1</th>\n",
       "      <td>1</td>\n",
       "      <td>803965640511</td>\n",
       "      <td>49.5</td>\n",
       "      <td>slower ball, ashwin bunts this to leg for -99...</td>\n",
       "      <td>4</td>\n",
       "      <td>Run_Bw_Wickets</td>\n",
       "    </tr>\n",
       "    <tr>\n",
       "      <th>2</th>\n",
       "      <td>2</td>\n",
       "      <td>803965640511</td>\n",
       "      <td>49.4</td>\n",
       "      <td>full toss on off, he just slogs, gets a thick...</td>\n",
       "      <td>4</td>\n",
       "      <td>Run_Bw_Wickets</td>\n",
       "    </tr>\n",
       "    <tr>\n",
       "      <th>3</th>\n",
       "      <td>3</td>\n",
       "      <td>803965640511</td>\n",
       "      <td>49.3</td>\n",
       "      <td>that's the closest you'll get to a hat-trick ...</td>\n",
       "      <td>4</td>\n",
       "      <td>Dot</td>\n",
       "    </tr>\n",
       "    <tr>\n",
       "      <th>4</th>\n",
       "      <td>4</td>\n",
       "      <td>803965640511</td>\n",
       "      <td>49.2</td>\n",
       "      <td>sohail is doing the sajda after bowling rahan...</td>\n",
       "      <td>4</td>\n",
       "      <td>Wicket</td>\n",
       "    </tr>\n",
       "  </tbody>\n",
       "</table>\n",
       "</div>"
      ],
      "text/plain": [
       "   ID      Match_ID  Over                                         Commentary  \\\n",
       "0   0  803965640511  49.6   and india reach 300. there has been a 300 in ...   \n",
       "1   1  803965640511  49.5   slower ball, ashwin bunts this to leg for -99...   \n",
       "2   2  803965640511  49.4   full toss on off, he just slogs, gets a thick...   \n",
       "3   3  803965640511  49.3   that's the closest you'll get to a hat-trick ...   \n",
       "4   4  803965640511  49.2   sohail is doing the sajda after bowling rahan...   \n",
       "\n",
       "   Over_Run_Total          Target  \n",
       "0               4  Run_Bw_Wickets  \n",
       "1               4  Run_Bw_Wickets  \n",
       "2               4  Run_Bw_Wickets  \n",
       "3               4             Dot  \n",
       "4               4          Wicket  "
      ]
     },
     "execution_count": 6,
     "metadata": {},
     "output_type": "execute_result"
    }
   ],
   "source": [
    "train = pd.read_excel('..//0.data//raw/CCC_Train.xlsx')\n",
    "train.head()"
   ]
  },
  {
   "cell_type": "markdown",
   "metadata": {},
   "source": [
    "## Clean Commentary Text"
   ]
  },
  {
   "cell_type": "code",
   "execution_count": 7,
   "metadata": {},
   "outputs": [],
   "source": [
    "from nltk.tokenize import RegexpTokenizer\n",
    "from nltk import stem\n",
    "\n",
    "def clean_paragraph(para):\n",
    "    lmtzr = stem.WordNetLemmatizer()\n",
    "    tokenizer = RegexpTokenizer(r'\\w+')\n",
    "    \n",
    "    p = ' '.join([lmtzr.lemmatize(token.lower()) for token in tokenizer.tokenize(para)])\n",
    "    \n",
    "    return p"
   ]
  },
  {
   "cell_type": "code",
   "execution_count": 8,
   "metadata": {},
   "outputs": [
    {
     "name": "stdout",
     "output_type": "stream",
     "text": [
      "23.746646881103516\n"
     ]
    }
   ],
   "source": [
    "import time; t0 = time.time()\n",
    "\n",
    "train.Commentary = [clean_paragraph(para) for para in train.Commentary]\n",
    "\n",
    "print(time.time() - t0)"
   ]
  },
  {
   "cell_type": "code",
   "execution_count": 9,
   "metadata": {},
   "outputs": [
    {
     "data": {
      "text/plain": [
       "'and india reach 300 there ha been a 300 in every first inning of this cup so far shami drive this full ball over point and come back a second'"
      ]
     },
     "execution_count": 9,
     "metadata": {},
     "output_type": "execute_result"
    }
   ],
   "source": [
    "train.Commentary[0]"
   ]
  },
  {
   "cell_type": "markdown",
   "metadata": {},
   "source": [
    "## Create Classes and Assign Probabilities"
   ]
  },
  {
   "cell_type": "code",
   "execution_count": 33,
   "metadata": {},
   "outputs": [
    {
     "data": {
      "text/plain": [
       "Run_Bw_Wickets    43085\n",
       "Dot               42522\n",
       "Boundary          12134\n",
       "Wicket             3893\n",
       "Name: Target, dtype: int64"
      ]
     },
     "execution_count": 33,
     "metadata": {},
     "output_type": "execute_result"
    }
   ],
   "source": [
    "train.Target.value_counts()"
   ]
  },
  {
   "cell_type": "code",
   "execution_count": 44,
   "metadata": {},
   "outputs": [
    {
     "data": {
      "text/plain": [
       "0    43085\n",
       "1    42522\n",
       "2    12134\n",
       "3     3893\n",
       "Name: Target, dtype: int64"
      ]
     },
     "execution_count": 44,
     "metadata": {},
     "output_type": "execute_result"
    }
   ],
   "source": [
    "'''Convert Class names to numbers for easy row indexing'''\n",
    "for index, row in train.iterrows():\n",
    "    if row.Target == \"Run_Bw_Wickets\":\n",
    "        train.at[index, 'Target'] = 0\n",
    "    if row.Target == \"Dot\":\n",
    "        train.at[index, 'Target'] = 1\n",
    "    if row.Target == \"Boundary\":\n",
    "        train.at[index, 'Target'] = 2\n",
    "    if row.Target == \"Wicket\":\n",
    "        train.at[index, 'Target'] = 3\n",
    "\n",
    "train.Target.value_counts()"
   ]
  },
  {
   "cell_type": "code",
   "execution_count": 82,
   "metadata": {},
   "outputs": [
    {
     "name": "stdout",
     "output_type": "stream",
     "text": [
      "0    0.423923\n",
      "1    0.418384\n",
      "2    0.119389\n",
      "3    0.038304\n",
      "dtype: float64\n"
     ]
    },
    {
     "data": {
      "text/plain": [
       "1.0"
      ]
     },
     "execution_count": 82,
     "metadata": {},
     "output_type": "execute_result"
    }
   ],
   "source": [
    "'''Find probabilites of each class'''\n",
    "prob_of_each_class = []\n",
    "totalDocCount = len(train)\n",
    "\n",
    "for a in train.Target.value_counts():\n",
    "    prob_of_each_class.append(float(a/totalDocCount))\n",
    "\n",
    "prob_of_each_class = pd.Series(prob_of_each_class)\n",
    "print(prob_of_each_class); prob_of_each_class.sum()"
   ]
  },
  {
   "cell_type": "markdown",
   "metadata": {},
   "source": [
    "## Create Word Matrix"
   ]
  },
  {
   "cell_type": "code",
   "execution_count": 64,
   "metadata": {},
   "outputs": [
    {
     "data": {
      "text/plain": [
       "'Unique Tokens = 13957'"
      ]
     },
     "execution_count": 64,
     "metadata": {},
     "output_type": "execute_result"
    }
   ],
   "source": [
    "'''Get Unique Words from the text data'''\n",
    "\n",
    "tokenDict = {}\n",
    "i = 0 \n",
    "for row in train.Commentary:\n",
    "    for token in row.split(' '):\n",
    "        if tokenDict.get(token) == None:\n",
    "            tokenDict[token] = i\n",
    "            i = i + 1\n",
    "        else:\n",
    "            continue\n",
    "\n",
    "len(tokenDict)\n",
    "\n",
    "'''Unique Tokens = 13957'''"
   ]
  },
  {
   "cell_type": "markdown",
   "metadata": {},
   "source": [
    "## Initialize Matrix"
   ]
  },
  {
   "cell_type": "code",
   "execution_count": 108,
   "metadata": {},
   "outputs": [
    {
     "data": {
      "text/plain": [
       "<4x13957 sparse matrix of type '<class 'numpy.float64'>'\n",
       "\twith 0 stored elements in Compressed Sparse Row format>"
      ]
     },
     "execution_count": 108,
     "metadata": {},
     "output_type": "execute_result"
    }
   ],
   "source": [
    "from scipy.sparse import coo_matrix\n",
    "import numpy as np\n",
    "matrix = coo_matrix((4, 13957))\n",
    "matrix = matrix.tocsr()\n",
    "matrix"
   ]
  },
  {
   "cell_type": "markdown",
   "metadata": {},
   "source": [
    "## Fill Matrix "
   ]
  },
  {
   "cell_type": "code",
   "execution_count": 110,
   "metadata": {},
   "outputs": [
    {
     "name": "stderr",
     "output_type": "stream",
     "text": [
      "C:\\Users\\rritesh\\AppData\\Local\\Continuum\\anaconda3\\lib\\site-packages\\scipy\\sparse\\compressed.py:746: SparseEfficiencyWarning: Changing the sparsity structure of a csr_matrix is expensive. lil_matrix is more efficient.\n",
      "  SparseEfficiencyWarning)\n"
     ]
    }
   ],
   "source": [
    "'''Fill the Matrix'''\n",
    "\n",
    "for index, row in train.iterrows():\n",
    "    for token in row['Commentary'].split(' '):\n",
    "        matrix[row['Target'], tokenDict[token]] = matrix[row['Target'], tokenDict[token]] + 1"
   ]
  },
  {
   "cell_type": "code",
   "execution_count": 147,
   "metadata": {},
   "outputs": [
    {
     "name": "stdout",
     "output_type": "stream",
     "text": [
      "13957\n",
      "[76743.0, 242.0, 1039.0, 20.0, 4160.0, 4248.0, 1658.0, 61734.0, 21021.0, 82.0]\n",
      "76743.0\n"
     ]
    }
   ],
   "source": [
    "'''Calculate total count'''\n",
    "wordCountVector = [matrix[:, i].sum() for i in range(0, len(tokenDict))]\n",
    "\n",
    "print(len(wordCountVector))\n",
    "print(wordCountVector[:10])\n",
    "print(matrix[:, 0].sum())"
   ]
  },
  {
   "cell_type": "code",
   "execution_count": 148,
   "metadata": {},
   "outputs": [
    {
     "name": "stdout",
     "output_type": "stream",
     "text": [
      "  (0, 0)\t27379.0\n",
      "  (1, 0)\t26616.0\n",
      "  (2, 0)\t15806.0\n",
      "  (3, 0)\t6942.0\n",
      "76743.0\n"
     ]
    }
   ],
   "source": [
    "print(matrix[:, 0])\n",
    "print(wordCountVector[tokenDict['and']])"
   ]
  },
  {
   "cell_type": "markdown",
   "metadata": {},
   "source": [
    "## Make Predictions on Test Data - Load, Clean, Predict Prob"
   ]
  },
  {
   "cell_type": "code",
   "execution_count": 149,
   "metadata": {},
   "outputs": [
    {
     "data": {
      "text/html": [
       "<div>\n",
       "<style scoped>\n",
       "    .dataframe tbody tr th:only-of-type {\n",
       "        vertical-align: middle;\n",
       "    }\n",
       "\n",
       "    .dataframe tbody tr th {\n",
       "        vertical-align: top;\n",
       "    }\n",
       "\n",
       "    .dataframe thead th {\n",
       "        text-align: right;\n",
       "    }\n",
       "</style>\n",
       "<table border=\"1\" class=\"dataframe\">\n",
       "  <thead>\n",
       "    <tr style=\"text-align: right;\">\n",
       "      <th></th>\n",
       "      <th>ID</th>\n",
       "      <th>Match_ID</th>\n",
       "      <th>Over</th>\n",
       "      <th>Commentary</th>\n",
       "      <th>Over_Run_Total</th>\n",
       "      <th>Target</th>\n",
       "    </tr>\n",
       "  </thead>\n",
       "  <tbody>\n",
       "    <tr>\n",
       "      <th>0</th>\n",
       "      <td>0</td>\n",
       "      <td>803965640511</td>\n",
       "      <td>47.6</td>\n",
       "      <td>the yorker gone wrong. low full toss, and dho...</td>\n",
       "      <td>9</td>\n",
       "      <td>None</td>\n",
       "    </tr>\n",
       "    <tr>\n",
       "      <th>1</th>\n",
       "      <td>1</td>\n",
       "      <td>803965640511</td>\n",
       "      <td>47.5</td>\n",
       "      <td>short of a length, no room, worked to leg for...</td>\n",
       "      <td>9</td>\n",
       "      <td>None</td>\n",
       "    </tr>\n",
       "    <tr>\n",
       "      <th>2</th>\n",
       "      <td>2</td>\n",
       "      <td>803965640511</td>\n",
       "      <td>47.4</td>\n",
       "      <td>good yorker, dhoni is making room, but can't ...</td>\n",
       "      <td>9</td>\n",
       "      <td>None</td>\n",
       "    </tr>\n",
       "    <tr>\n",
       "      <th>3</th>\n",
       "      <td>3</td>\n",
       "      <td>803965640511</td>\n",
       "      <td>47.3</td>\n",
       "      <td>raina is gone. finally to the short ball. but...</td>\n",
       "      <td>9</td>\n",
       "      <td>None</td>\n",
       "    </tr>\n",
       "    <tr>\n",
       "      <th>4</th>\n",
       "      <td>4</td>\n",
       "      <td>803965640511</td>\n",
       "      <td>47.2</td>\n",
       "      <td>not called a wide. great call -999 say. he ha...</td>\n",
       "      <td>9</td>\n",
       "      <td>None</td>\n",
       "    </tr>\n",
       "  </tbody>\n",
       "</table>\n",
       "</div>"
      ],
      "text/plain": [
       "   ID      Match_ID  Over                                         Commentary  \\\n",
       "0   0  803965640511  47.6   the yorker gone wrong. low full toss, and dho...   \n",
       "1   1  803965640511  47.5   short of a length, no room, worked to leg for...   \n",
       "2   2  803965640511  47.4   good yorker, dhoni is making room, but can't ...   \n",
       "3   3  803965640511  47.3   raina is gone. finally to the short ball. but...   \n",
       "4   4  803965640511  47.2   not called a wide. great call -999 say. he ha...   \n",
       "\n",
       "   Over_Run_Total Target  \n",
       "0               9   None  \n",
       "1               9   None  \n",
       "2               9   None  \n",
       "3               9   None  \n",
       "4               9   None  "
      ]
     },
     "execution_count": 149,
     "metadata": {},
     "output_type": "execute_result"
    }
   ],
   "source": [
    "'''Load Test Data'''\n",
    "test = pd.read_excel('..//0.data//raw/CCC_Test.xlsx')\n",
    "test['Target'] = None\n",
    "\n",
    "test.head()"
   ]
  },
  {
   "cell_type": "code",
   "execution_count": 150,
   "metadata": {},
   "outputs": [
    {
     "name": "stdout",
     "output_type": "stream",
     "text": [
      "5.518242120742798\n"
     ]
    }
   ],
   "source": [
    "'''Clean Test Commentary Text Data'''\n",
    "\n",
    "import time; t0 = time.time()\n",
    "\n",
    "test.Commentary = [clean_paragraph(para) for para in test.Commentary]\n",
    "\n",
    "print(time.time() - t0)"
   ]
  },
  {
   "cell_type": "code",
   "execution_count": 155,
   "metadata": {},
   "outputs": [],
   "source": [
    "for index, row in test.iterrows():\n",
    "    pred_test_prob = 0.0\n",
    "    pred_class = 0\n",
    "    \n",
    "    for target_class in range(0, 4):\n",
    "        product = prob_of_each_class[target_class]\n",
    "        \n",
    "        for token in row['Commentary'].split(' '):\n",
    "            if tokenDict.get(token) == None:\n",
    "                continue\n",
    "                \n",
    "            p_value = matrix[target_class, tokenDict[token]] / wordCountVector[tokenDict[token]]\n",
    "            \n",
    "            if p_value != 0.0:\n",
    "                product = product * p_value\n",
    "                \n",
    "        if product > pred_test_prob:\n",
    "            pred_class = target_class\n",
    "            pred_test_prob = product\n",
    "            \n",
    "    test.at[index, 'Target'] = pred_class"
   ]
  },
  {
   "cell_type": "markdown",
   "metadata": {},
   "source": [
    "## Convert Labels back to Names"
   ]
  },
  {
   "cell_type": "code",
   "execution_count": 157,
   "metadata": {},
   "outputs": [],
   "source": [
    "for index, row in test.iterrows():\n",
    "    if row.Target == 0:\n",
    "        test.at[index, 'Target'] = \"Run_Bw_Wickets\"\n",
    "    if row.Target == 1:\n",
    "        test.at[index, 'Target'] = \"Dot\"\n",
    "    if row.Target == 2:\n",
    "        test.at[index, 'Target'] = \"Boundary\"\n",
    "    if row.Target == 3:\n",
    "        test.at[index, 'Target'] = \"Wicket\""
   ]
  },
  {
   "cell_type": "code",
   "execution_count": 159,
   "metadata": {},
   "outputs": [],
   "source": [
    "test.to_csv('..//5.outputs//output.csv')"
   ]
  },
  {
   "cell_type": "markdown",
   "metadata": {},
   "source": [
    "# Accuracy so far - 61.828 %"
   ]
  },
  {
   "cell_type": "markdown",
   "metadata": {},
   "source": [
    "## Include Over_Run_Total Information Also"
   ]
  },
  {
   "cell_type": "code",
   "execution_count": 165,
   "metadata": {},
   "outputs": [
    {
     "data": {
      "text/plain": [
       "Over_Run_Total\n",
       "0           [1, 3]\n",
       "1        [1, 3, 0]\n",
       "2        [1, 0, 3]\n",
       "3        [1, 0, 3]\n",
       "4     [0, 1, 3, 2]\n",
       "5     [0, 1, 2, 3]\n",
       "6     [0, 1, 2, 3]\n",
       "7     [0, 1, 2, 3]\n",
       "8     [0, 1, 2, 3]\n",
       "9     [0, 2, 1, 3]\n",
       "10    [0, 1, 2, 3]\n",
       "11    [1, 0, 2, 3]\n",
       "12    [1, 2, 0, 3]\n",
       "13    [2, 1, 0, 3]\n",
       "14    [0, 2, 1, 3]\n",
       "15    [2, 0, 1, 3]\n",
       "16    [2, 0, 3, 1]\n",
       "17    [0, 2, 1, 3]\n",
       "18    [2, 1, 0, 3]\n",
       "19    [2, 0, 1, 3]\n",
       "20    [1, 2, 0, 3]\n",
       "21    [0, 2, 1, 3]\n",
       "22    [2, 0, 1, 3]\n",
       "23    [2, 0, 1, 3]\n",
       "24    [2, 0, 1, 3]\n",
       "25    [2, 0, 1, 3]\n",
       "26    [2, 1, 0, 3]\n",
       "27       [2, 0, 1]\n",
       "28       [2, 0, 1]\n",
       "29       [2, 0, 3]\n",
       "30          [2, 0]\n",
       "31          [0, 2]\n",
       "32       [0, 2, 3]\n",
       "34          [2, 0]\n",
       "36             [2]\n",
       "Name: Target, dtype: object"
      ]
     },
     "execution_count": 165,
     "metadata": {},
     "output_type": "execute_result"
    }
   ],
   "source": [
    "train.groupby(['Over_Run_Total'])['Target'].unique()"
   ]
  },
  {
   "cell_type": "code",
   "execution_count": 168,
   "metadata": {},
   "outputs": [
    {
     "data": {
      "text/plain": [
       "35"
      ]
     },
     "execution_count": 168,
     "metadata": {},
     "output_type": "execute_result"
    }
   ],
   "source": [
    "train.Over_Run_Total.nunique()"
   ]
  },
  {
   "cell_type": "code",
   "execution_count": 175,
   "metadata": {},
   "outputs": [
    {
     "data": {
      "text/plain": [
       "<5x37 sparse matrix of type '<class 'numpy.float64'>'\n",
       "\twith 0 stored elements in Compressed Sparse Row format>"
      ]
     },
     "execution_count": 175,
     "metadata": {},
     "output_type": "execute_result"
    }
   ],
   "source": [
    "'''Create Matrix to store prob info for runs'''\n",
    "\n",
    "matrix_runs_prob = coo_matrix((5, 37))\n",
    "matrix_runs_prob = matrix_runs_prob.tocsr()\n",
    "matrix_runs_prob"
   ]
  },
  {
   "cell_type": "code",
   "execution_count": 176,
   "metadata": {},
   "outputs": [
    {
     "name": "stderr",
     "output_type": "stream",
     "text": [
      "C:\\Users\\rritesh\\AppData\\Local\\Continuum\\anaconda3\\lib\\site-packages\\scipy\\sparse\\compressed.py:746: SparseEfficiencyWarning: Changing the sparsity structure of a csr_matrix is expensive. lil_matrix is more efficient.\n",
      "  SparseEfficiencyWarning)\n"
     ]
    }
   ],
   "source": [
    "'''Fill Matrix of Runs'''\n",
    "\n",
    "for index, row in train.iterrows():\n",
    "    matrix_runs_prob[row['Target'], row['Over_Run_Total']] = matrix_runs_prob[row['Target'], row['Over_Run_Total']] + 1\n",
    "    matrix_runs_prob[4, row['Over_Run_Total']] = matrix_runs_prob[4, row['Over_Run_Total']] + 1"
   ]
  },
  {
   "cell_type": "code",
   "execution_count": 180,
   "metadata": {},
   "outputs": [
    {
     "name": "stdout",
     "output_type": "stream",
     "text": [
      "  (1, 0)\t2845.0\n",
      "  (3, 0)\t218.0\n",
      "  (4, 0)\t3063.0\n"
     ]
    }
   ],
   "source": [
    "print(matrix_runs_prob[:, 0])"
   ]
  },
  {
   "cell_type": "code",
   "execution_count": 181,
   "metadata": {},
   "outputs": [],
   "source": [
    "'''Make New Predictions'''\n",
    "\n",
    "for index, row in test.iterrows():\n",
    "    pred_test_prob = 0.0\n",
    "    pred_class = 0\n",
    "    \n",
    "    for target_class in range(0, 4):\n",
    "        product = prob_of_each_class[target_class]\n",
    "        run_prob = matrix_runs_prob[target_class, row['Over_Run_Total']] / matrix_runs_prob[4, row['Over_Run_Total']]\n",
    "        \n",
    "        if run_prob != 0.0:\n",
    "            product = product * run_prob\n",
    "        \n",
    "        for token in row['Commentary'].split(' '):\n",
    "            if tokenDict.get(token) == None:\n",
    "                continue\n",
    "                \n",
    "            p_value = matrix[target_class, tokenDict[token]] / wordCountVector[tokenDict[token]]\n",
    "            \n",
    "            if p_value != 0.0:\n",
    "                product = product * p_value\n",
    "                \n",
    "        if product > pred_test_prob:\n",
    "            pred_class = target_class\n",
    "            pred_test_prob = product\n",
    "            \n",
    "    test.at[index, 'Target'] = pred_class\n"
   ]
  },
  {
   "cell_type": "code",
   "execution_count": 183,
   "metadata": {},
   "outputs": [],
   "source": [
    "for index, row in test.iterrows():\n",
    "    if row.Target == 0:\n",
    "        test.at[index, 'Target'] = \"Run_Bw_Wickets\"\n",
    "    if row.Target == 1:\n",
    "        test.at[index, 'Target'] = \"Dot\"\n",
    "    if row.Target == 2:\n",
    "        test.at[index, 'Target'] = \"Boundary\"\n",
    "    if row.Target == 3:\n",
    "        test.at[index, 'Target'] = \"Wicket\"\n",
    "\n",
    "test.to_csv('..//5.outputs//output2.csv')"
   ]
  },
  {
   "cell_type": "markdown",
   "metadata": {},
   "source": [
    "# Accuracy = 62.45% "
   ]
  }
 ],
 "metadata": {
  "kernelspec": {
   "display_name": "Python 3",
   "language": "python",
   "name": "python3"
  },
  "language_info": {
   "codemirror_mode": {
    "name": "ipython",
    "version": 3
   },
   "file_extension": ".py",
   "mimetype": "text/x-python",
   "name": "python",
   "nbconvert_exporter": "python",
   "pygments_lexer": "ipython3",
   "version": "3.6.0"
  }
 },
 "nbformat": 4,
 "nbformat_minor": 2
}
